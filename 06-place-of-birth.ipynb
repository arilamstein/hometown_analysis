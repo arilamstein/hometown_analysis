{
 "cells": [
  {
   "cell_type": "markdown",
   "metadata": {},
   "source": [
    "# Place of Birth of the Foreign-Born Population\n",
    "\n",
    "### Top Countries\n",
    "\n",
    "In [05-nativity.ipynb](./05-nativity.ipynb) we saw that around a third of the residents of Great Neck are Foreign-Born, and that has been true since the start of the 5-year ACS in 2009. But where are they from? And has that location changed over time? To answer that we can look at [B05006: Place of Birth for the Foreign-born Population in the United States](https://censusreporter.org/data/table/?table=B05006&geo_ids=97000US3612510&primary_geo_id=97000US3612510). Let's start by looking at the 2019 data:"
   ]
  },
  {
   "cell_type": "code",
   "execution_count": 1,
   "metadata": {},
   "outputs": [
    {
     "name": "stdout",
     "output_type": "stream",
     "text": [
      "."
     ]
    },
    {
     "data": {
      "text/html": [
       "<div>\n",
       "<style scoped>\n",
       "    .dataframe tbody tr th:only-of-type {\n",
       "        vertical-align: middle;\n",
       "    }\n",
       "\n",
       "    .dataframe tbody tr th {\n",
       "        vertical-align: top;\n",
       "    }\n",
       "\n",
       "    .dataframe thead th {\n",
       "        text-align: right;\n",
       "    }\n",
       "</style>\n",
       "<table border=\"1\" class=\"dataframe\">\n",
       "  <thead>\n",
       "    <tr style=\"text-align: right;\">\n",
       "      <th></th>\n",
       "      <th>Total</th>\n",
       "      <th>Europe</th>\n",
       "      <th>Northern Europe</th>\n",
       "      <th>Ireland</th>\n",
       "      <th>Denmark</th>\n",
       "      <th>Norway</th>\n",
       "      <th>Sweden</th>\n",
       "      <th>United Kingdom (inc. Crown Dependencies)</th>\n",
       "      <th>United Kingdom, excluding England and Scotland</th>\n",
       "      <th>England</th>\n",
       "      <th>...</th>\n",
       "      <th>Ecuador</th>\n",
       "      <th>Guyana</th>\n",
       "      <th>Peru</th>\n",
       "      <th>Uruguay</th>\n",
       "      <th>Venezuela</th>\n",
       "      <th>Other South America</th>\n",
       "      <th>Northern America</th>\n",
       "      <th>Canada</th>\n",
       "      <th>Other Northern America</th>\n",
       "      <th>Year</th>\n",
       "    </tr>\n",
       "  </thead>\n",
       "  <tbody>\n",
       "    <tr>\n",
       "      <th>0</th>\n",
       "      <td>14289</td>\n",
       "      <td>1821</td>\n",
       "      <td>220</td>\n",
       "      <td>48</td>\n",
       "      <td>0</td>\n",
       "      <td>0</td>\n",
       "      <td>18</td>\n",
       "      <td>154</td>\n",
       "      <td>42</td>\n",
       "      <td>84</td>\n",
       "      <td>...</td>\n",
       "      <td>30</td>\n",
       "      <td>27</td>\n",
       "      <td>90</td>\n",
       "      <td>0</td>\n",
       "      <td>0</td>\n",
       "      <td>8</td>\n",
       "      <td>93</td>\n",
       "      <td>93</td>\n",
       "      <td>0</td>\n",
       "      <td>2019</td>\n",
       "    </tr>\n",
       "  </tbody>\n",
       "</table>\n",
       "<p>1 rows × 169 columns</p>\n",
       "</div>"
      ],
      "text/plain": [
       "   Total  Europe  Northern Europe  Ireland  Denmark  Norway  Sweden  \\\n",
       "0  14289    1821              220       48        0       0      18   \n",
       "\n",
       "   United Kingdom (inc. Crown Dependencies)  \\\n",
       "0                                       154   \n",
       "\n",
       "   United Kingdom, excluding England and Scotland  England  ...  Ecuador  \\\n",
       "0                                              42       84  ...       30   \n",
       "\n",
       "   Guyana  Peru  Uruguay  Venezuela  Other South America  Northern America  \\\n",
       "0      27    90        0          0                    8                93   \n",
       "\n",
       "   Canada  Other Northern America  Year  \n",
       "0      93                       0  2019  \n",
       "\n",
       "[1 rows x 169 columns]"
      ]
     },
     "execution_count": 1,
     "metadata": {},
     "output_type": "execute_result"
    }
   ],
   "source": [
    "from censusdis.datasets import ACS5\n",
    "from censusdis.states import NY\n",
    "\n",
    "from utils import download_multiyear\n",
    "\n",
    "df = download_multiyear(\n",
    "    dataset=ACS5,\n",
    "    vintages=[2019],\n",
    "    group=\"B05006\",\n",
    "    state=NY,\n",
    "    school_district_unified=\"12510\",\n",
    ")\n",
    "df"
   ]
  },
  {
   "cell_type": "markdown",
   "metadata": {},
   "source": [
    "The data is a bit hard to read in this format. Let's transpose the dataframe and then sort it:"
   ]
  },
  {
   "cell_type": "code",
   "execution_count": 2,
   "metadata": {},
   "outputs": [
    {
     "data": {
      "text/html": [
       "<div>\n",
       "<style scoped>\n",
       "    .dataframe tbody tr th:only-of-type {\n",
       "        vertical-align: middle;\n",
       "    }\n",
       "\n",
       "    .dataframe tbody tr th {\n",
       "        vertical-align: top;\n",
       "    }\n",
       "\n",
       "    .dataframe thead th {\n",
       "        text-align: right;\n",
       "    }\n",
       "</style>\n",
       "<table border=\"1\" class=\"dataframe\">\n",
       "  <thead>\n",
       "    <tr style=\"text-align: right;\">\n",
       "      <th></th>\n",
       "      <th>0</th>\n",
       "    </tr>\n",
       "  </thead>\n",
       "  <tbody>\n",
       "    <tr>\n",
       "      <th>Total</th>\n",
       "      <td>14289</td>\n",
       "    </tr>\n",
       "    <tr>\n",
       "      <th>Asia</th>\n",
       "      <td>11013</td>\n",
       "    </tr>\n",
       "    <tr>\n",
       "      <th>Eastern Asia</th>\n",
       "      <td>5047</td>\n",
       "    </tr>\n",
       "    <tr>\n",
       "      <th>South Central Asia</th>\n",
       "      <td>4701</td>\n",
       "    </tr>\n",
       "    <tr>\n",
       "      <th>China</th>\n",
       "      <td>3768</td>\n",
       "    </tr>\n",
       "    <tr>\n",
       "      <th>Iran</th>\n",
       "      <td>3723</td>\n",
       "    </tr>\n",
       "    <tr>\n",
       "      <th>China, excluding Hong Kong and Taiwan</th>\n",
       "      <td>2726</td>\n",
       "    </tr>\n",
       "    <tr>\n",
       "      <th>Year</th>\n",
       "      <td>2019</td>\n",
       "    </tr>\n",
       "    <tr>\n",
       "      <th>Europe</th>\n",
       "      <td>1821</td>\n",
       "    </tr>\n",
       "    <tr>\n",
       "      <th>Americas</th>\n",
       "      <td>1270</td>\n",
       "    </tr>\n",
       "    <tr>\n",
       "      <th>Korea</th>\n",
       "      <td>1179</td>\n",
       "    </tr>\n",
       "    <tr>\n",
       "      <th>Latin America</th>\n",
       "      <td>1177</td>\n",
       "    </tr>\n",
       "    <tr>\n",
       "      <th>Western Asia</th>\n",
       "      <td>947</td>\n",
       "    </tr>\n",
       "    <tr>\n",
       "      <th>India</th>\n",
       "      <td>802</td>\n",
       "    </tr>\n",
       "    <tr>\n",
       "      <th>Eastern Europe</th>\n",
       "      <td>790</td>\n",
       "    </tr>\n",
       "  </tbody>\n",
       "</table>\n",
       "</div>"
      ],
      "text/plain": [
       "                                           0\n",
       "Total                                  14289\n",
       "Asia                                   11013\n",
       "Eastern Asia                            5047\n",
       "South Central Asia                      4701\n",
       "China                                   3768\n",
       "Iran                                    3723\n",
       "China, excluding Hong Kong and Taiwan   2726\n",
       "Year                                    2019\n",
       "Europe                                  1821\n",
       "Americas                                1270\n",
       "Korea                                   1179\n",
       "Latin America                           1177\n",
       "Western Asia                             947\n",
       "India                                    802\n",
       "Eastern Europe                           790"
      ]
     },
     "execution_count": 2,
     "metadata": {},
     "output_type": "execute_result"
    }
   ],
   "source": [
    "(df.T.sort_values(0, ascending=False).head(15))"
   ]
  },
  {
   "cell_type": "markdown",
   "metadata": {},
   "source": [
    "One thing to note about this dataframe is that some of the columns contain aggregate data. For exampe: \"Total\" can be viewed as the sum of the continent rows like \"Asia and \"Europe\". Isolating just the country-level rows it looks like China, Iran and Korea are the top countries in 2019.\n",
    "\n",
    "It's also notable that Great Neck has roughly the same population of Foreign-Born from both China and Iran. A quick google search shows that in 2019 China had a population of 1.408 billion and Iran has a population is 87 million.\n",
    "\n",
    "## Top Countries Over Time\n",
    "\n",
    "### First Attempt: `download_multiyear`\n",
    "\n",
    "Let's try to use `download_multiyear` to see how the number of residents from China, Iran and Korea changed over the course of the 5-year ACS (2009-2019)."
   ]
  },
  {
   "cell_type": "code",
   "execution_count": 3,
   "metadata": {},
   "outputs": [
    {
     "name": "stdout",
     "output_type": "stream",
     "text": [
      "...Warning: B05006_004E has had multiple labels over the selected years:\n",
      "\t'Estimate!!Total!!Europe!!Northern Europe!!United Kingdom (inc. Crown Dependencies)' in [2009, 2014]\n",
      "\t'Estimate!!Total!!Europe!!Northern Europe!!Ireland' in [2019]\n",
      "Warning: B05006_005E has had multiple labels over the selected years:\n",
      "\t'Estimate!!Total!!Europe!!Northern Europe!!United Kingdom (inc. Crown Dependencies)!!United Kingdom, excluding England and Scotland' in [2009, 2014]\n",
      "\t'Estimate!!Total!!Europe!!Northern Europe!!Denmark' in [2019]\n",
      "Warning: B05006_006E has had multiple labels over the selected years:\n",
      "\t'Estimate!!Total!!Europe!!Northern Europe!!United Kingdom (inc. Crown Dependencies)!!England' in [2009, 2014]\n",
      "\t'Estimate!!Total!!Europe!!Northern Europe!!Norway' in [2019]\n",
      "Warning: B05006_007E has had multiple labels over the selected years:\n",
      "\t'Estimate!!Total!!Europe!!Northern Europe!!United Kingdom (inc. Crown Dependencies)!!Scotland' in [2009, 2014]\n",
      "\t'Estimate!!Total!!Europe!!Northern Europe!!Sweden' in [2019]\n",
      "Warning: B05006_008E has had multiple labels over the selected years:\n",
      "\t'Estimate!!Total!!Europe!!Northern Europe!!Ireland' in [2009, 2014]\n",
      "\t'Estimate!!Total!!Europe!!Northern Europe!!United Kingdom (inc. Crown Dependencies)' in [2019]\n",
      "Warning: B05006_009E has had multiple labels over the selected years:\n",
      "\t'Estimate!!Total!!Europe!!Northern Europe!!Denmark' in [2009, 2014]\n",
      "\t'Estimate!!Total!!Europe!!Northern Europe!!United Kingdom (inc. Crown Dependencies)!!United Kingdom, excluding England and Scotland' in [2019]\n",
      "Warning: B05006_010E has had multiple labels over the selected years:\n",
      "\t'Estimate!!Total!!Europe!!Northern Europe!!Norway' in [2009, 2014]\n",
      "\t'Estimate!!Total!!Europe!!Northern Europe!!United Kingdom (inc. Crown Dependencies)!!England' in [2019]\n",
      "Warning: B05006_011E has had multiple labels over the selected years:\n",
      "\t'Estimate!!Total!!Europe!!Northern Europe!!Sweden' in [2009, 2014]\n",
      "\t'Estimate!!Total!!Europe!!Northern Europe!!United Kingdom (inc. Crown Dependencies)!!Scotland' in [2019]\n",
      "Warning: B05006_025E has had multiple labels over the selected years:\n",
      "\t'Estimate!!Total!!Europe!!Southern Europe!!Spain' in [2009]\n",
      "\t'Estimate!!Total!!Europe!!Southern Europe!!Portugal!!Azores Islands' in [2014, 2019]\n",
      "Warning: B05006_026E has had multiple labels over the selected years:\n",
      "\t'Estimate!!Total!!Europe!!Southern Europe!!Other Southern Europe' in [2009]\n",
      "\t'Estimate!!Total!!Europe!!Southern Europe!!Spain' in [2014, 2019]\n",
      "Warning: B05006_027E has had multiple labels over the selected years:\n",
      "\t'Estimate!!Total!!Europe!!Eastern Europe' in [2009]\n",
      "\t'Estimate!!Total!!Europe!!Southern Europe!!Other Southern Europe' in [2014, 2019]\n",
      "Warning: B05006_028E has had multiple labels over the selected years:\n",
      "\t'Estimate!!Total!!Europe!!Eastern Europe!!Albania' in [2009]\n",
      "\t'Estimate!!Total!!Europe!!Eastern Europe' in [2014, 2019]\n",
      "Warning: B05006_029E has had multiple labels over the selected years:\n",
      "\t'Estimate!!Total!!Europe!!Eastern Europe!!Belarus' in [2009]\n",
      "\t'Estimate!!Total!!Europe!!Eastern Europe!!Albania' in [2014, 2019]\n",
      "Warning: B05006_030E has had multiple labels over the selected years:\n",
      "\t'Estimate!!Total!!Europe!!Eastern Europe!!Bulgaria' in [2009]\n",
      "\t'Estimate!!Total!!Europe!!Eastern Europe!!Belarus' in [2014, 2019]\n",
      "Warning: B05006_031E has had multiple labels over the selected years:\n",
      "\t'Estimate!!Total!!Europe!!Eastern Europe!!Croatia' in [2009]\n",
      "\t'Estimate!!Total!!Europe!!Eastern Europe!!Bulgaria' in [2014]\n",
      "\t'Estimate!!Total!!Europe!!Eastern Europe!!Bosnia and Herzegovina' in [2019]\n",
      "Warning: B05006_032E has had multiple labels over the selected years:\n",
      "\t'Estimate!!Total!!Europe!!Eastern Europe!!Czechoslovakia (includes Czech Republic and Slovakia)' in [2009]\n",
      "\t'Estimate!!Total!!Europe!!Eastern Europe!!Croatia' in [2014]\n",
      "\t'Estimate!!Total!!Europe!!Eastern Europe!!Bulgaria' in [2019]\n",
      "Warning: B05006_033E has had multiple labels over the selected years:\n",
      "\t'Estimate!!Total!!Europe!!Eastern Europe!!Hungary' in [2009]\n",
      "\t'Estimate!!Total!!Europe!!Eastern Europe!!Czechoslovakia (includes Czech Republic and Slovakia)' in [2014]\n",
      "\t'Estimate!!Total!!Europe!!Eastern Europe!!Croatia' in [2019]\n",
      "Warning: B05006_034E has had multiple labels over the selected years:\n",
      "\t'Estimate!!Total!!Europe!!Eastern Europe!!Latvia' in [2009]\n",
      "\t'Estimate!!Total!!Europe!!Eastern Europe!!Hungary' in [2014]\n",
      "\t'Estimate!!Total!!Europe!!Eastern Europe!!Czechoslovakia (includes Czech Republic and Slovakia)' in [2019]\n",
      "Warning: B05006_035E has had multiple labels over the selected years:\n",
      "\t'Estimate!!Total!!Europe!!Eastern Europe!!Lithuania' in [2009]\n",
      "\t'Estimate!!Total!!Europe!!Eastern Europe!!Latvia' in [2014]\n",
      "\t'Estimate!!Total!!Europe!!Eastern Europe!!Hungary' in [2019]\n",
      "Warning: B05006_036E has had multiple labels over the selected years:\n",
      "\t'Estimate!!Total!!Europe!!Eastern Europe!!Macedonia' in [2009]\n",
      "\t'Estimate!!Total!!Europe!!Eastern Europe!!Lithuania' in [2014]\n",
      "\t'Estimate!!Total!!Europe!!Eastern Europe!!Latvia' in [2019]\n",
      "Warning: B05006_037E has had multiple labels over the selected years:\n",
      "\t'Estimate!!Total!!Europe!!Eastern Europe!!Moldova' in [2009]\n",
      "\t'Estimate!!Total!!Europe!!Eastern Europe!!Macedonia' in [2014]\n",
      "\t'Estimate!!Total!!Europe!!Eastern Europe!!Lithuania' in [2019]\n",
      "Warning: B05006_038E has had multiple labels over the selected years:\n",
      "\t'Estimate!!Total!!Europe!!Eastern Europe!!Poland' in [2009]\n",
      "\t'Estimate!!Total!!Europe!!Eastern Europe!!Moldova' in [2014]\n",
      "\t'Estimate!!Total!!Europe!!Eastern Europe!!North Macedonia (Macedonia)' in [2019]\n",
      "Warning: B05006_039E has had multiple labels over the selected years:\n",
      "\t'Estimate!!Total!!Europe!!Eastern Europe!!Romania' in [2009]\n",
      "\t'Estimate!!Total!!Europe!!Eastern Europe!!Poland' in [2014]\n",
      "\t'Estimate!!Total!!Europe!!Eastern Europe!!Moldova' in [2019]\n",
      "Warning: B05006_040E has had multiple labels over the selected years:\n",
      "\t'Estimate!!Total!!Europe!!Eastern Europe!!Russia' in [2009]\n",
      "\t'Estimate!!Total!!Europe!!Eastern Europe!!Romania' in [2014]\n",
      "\t'Estimate!!Total!!Europe!!Eastern Europe!!Poland' in [2019]\n",
      "Warning: B05006_041E has had multiple labels over the selected years:\n",
      "\t'Estimate!!Total!!Europe!!Eastern Europe!!Ukraine' in [2009]\n",
      "\t'Estimate!!Total!!Europe!!Eastern Europe!!Russia' in [2014]\n",
      "\t'Estimate!!Total!!Europe!!Eastern Europe!!Romania' in [2019]\n",
      "Warning: B05006_042E has had multiple labels over the selected years:\n",
      "\t'Estimate!!Total!!Europe!!Eastern Europe!!Bosnia and Herzegovina' in [2009]\n",
      "\t'Estimate!!Total!!Europe!!Eastern Europe!!Ukraine' in [2014]\n",
      "\t'Estimate!!Total!!Europe!!Eastern Europe!!Russia' in [2019]\n",
      "Warning: B05006_043E has had multiple labels over the selected years:\n",
      "\t'Estimate!!Total!!Europe!!Eastern Europe!!Yugoslavia' in [2009]\n",
      "\t'Estimate!!Total!!Europe!!Eastern Europe!!Bosnia and Herzegovina' in [2014]\n",
      "\t'Estimate!!Total!!Europe!!Eastern Europe!!Serbia' in [2019]\n",
      "Warning: B05006_044E has had multiple labels over the selected years:\n",
      "\t'Estimate!!Total!!Europe!!Eastern Europe!!Yugoslavia!!Serbia' in [2009]\n",
      "\t'Estimate!!Total!!Europe!!Eastern Europe!!Serbia' in [2014]\n",
      "\t'Estimate!!Total!!Europe!!Eastern Europe!!Ukraine' in [2019]\n",
      "Warning: B05006_068E has had multiple labels over the selected years:\n",
      "\t'Estimate!!Total!!Asia!!South Eastern Asia!!Cambodia' in [2009, 2014]\n",
      "\t'Estimate!!Total!!Asia!!South Eastern Asia!!Burma' in [2019]\n",
      "Warning: B05006_069E has had multiple labels over the selected years:\n",
      "\t'Estimate!!Total!!Asia!!South Eastern Asia!!Indonesia' in [2009, 2014]\n",
      "\t'Estimate!!Total!!Asia!!South Eastern Asia!!Cambodia' in [2019]\n",
      "Warning: B05006_070E has had multiple labels over the selected years:\n",
      "\t'Estimate!!Total!!Asia!!South Eastern Asia!!Laos' in [2009, 2014]\n",
      "\t'Estimate!!Total!!Asia!!South Eastern Asia!!Indonesia' in [2019]\n",
      "Warning: B05006_071E has had multiple labels over the selected years:\n",
      "\t'Estimate!!Total!!Asia!!South Eastern Asia!!Malaysia' in [2009, 2014]\n",
      "\t'Estimate!!Total!!Asia!!South Eastern Asia!!Laos' in [2019]\n",
      "Warning: B05006_072E has had multiple labels over the selected years:\n",
      "\t'Estimate!!Total!!Asia!!South Eastern Asia!!Burma' in [2009, 2014]\n",
      "\t'Estimate!!Total!!Asia!!South Eastern Asia!!Malaysia' in [2019]\n",
      "Warning: B05006_079E has had multiple labels over the selected years:\n",
      "\t'Estimate!!Total!!Asia!!Western Asia!!Iraq' in [2009, 2014]\n",
      "\t'Estimate!!Total!!Asia!!Western Asia!!Armenia' in [2019]\n",
      "Warning: B05006_080E has had multiple labels over the selected years:\n",
      "\t'Estimate!!Total!!Asia!!Western Asia!!Israel' in [2009, 2014]\n",
      "\t'Estimate!!Total!!Asia!!Western Asia!!Iraq' in [2019]\n",
      "Warning: B05006_081E has had multiple labels over the selected years:\n",
      "\t'Estimate!!Total!!Asia!!Western Asia!!Jordan' in [2009, 2014]\n",
      "\t'Estimate!!Total!!Asia!!Western Asia!!Israel' in [2019]\n",
      "Warning: B05006_082E has had multiple labels over the selected years:\n",
      "\t'Estimate!!Total!!Asia!!Western Asia!!Kuwait' in [2009, 2014]\n",
      "\t'Estimate!!Total!!Asia!!Western Asia!!Jordan' in [2019]\n",
      "Warning: B05006_083E has had multiple labels over the selected years:\n",
      "\t'Estimate!!Total!!Asia!!Western Asia!!Lebanon' in [2009, 2014]\n",
      "\t'Estimate!!Total!!Asia!!Western Asia!!Kuwait' in [2019]\n",
      "Warning: B05006_084E has had multiple labels over the selected years:\n",
      "\t'Estimate!!Total!!Asia!!Western Asia!!Saudi Arabia' in [2009, 2014]\n",
      "\t'Estimate!!Total!!Asia!!Western Asia!!Lebanon' in [2019]\n",
      "Warning: B05006_085E has had multiple labels over the selected years:\n",
      "\t'Estimate!!Total!!Asia!!Western Asia!!Syria' in [2009, 2014]\n",
      "\t'Estimate!!Total!!Asia!!Western Asia!!Saudi Arabia' in [2019]\n",
      "Warning: B05006_086E has had multiple labels over the selected years:\n",
      "\t'Estimate!!Total!!Asia!!Western Asia!!Yemen' in [2009, 2014]\n",
      "\t'Estimate!!Total!!Asia!!Western Asia!!Syria' in [2019]\n",
      "Warning: B05006_088E has had multiple labels over the selected years:\n",
      "\t'Estimate!!Total!!Asia!!Western Asia!!Armenia' in [2009, 2014]\n",
      "\t'Estimate!!Total!!Asia!!Western Asia!!Yemen' in [2019]\n",
      "Warning: B05006_096E has had multiple labels over the selected years:\n",
      "\t'Estimate!!Total!!Africa!!Eastern Africa!!Other Eastern Africa' in [2009, 2014]\n",
      "\t'Estimate!!Total!!Africa!!Eastern Africa!!Somalia' in [2019]\n",
      "Warning: B05006_097E has had multiple labels over the selected years:\n",
      "\t'Estimate!!Total!!Africa!!Middle Africa' in [2009, 2014]\n",
      "\t'Estimate!!Total!!Africa!!Eastern Africa!!Uganda' in [2019]\n",
      "Warning: B05006_098E has had multiple labels over the selected years:\n",
      "\t'Estimate!!Total!!Africa!!Middle Africa!!Cameroon' in [2009, 2014]\n",
      "\t'Estimate!!Total!!Africa!!Eastern Africa!!Zimbabwe' in [2019]\n",
      "Warning: B05006_099E has had multiple labels over the selected years:\n",
      "\t'Estimate!!Total!!Africa!!Middle Africa!!Other Middle Africa' in [2009, 2014]\n",
      "\t'Estimate!!Total!!Africa!!Eastern Africa!!Other Eastern Africa' in [2019]\n",
      "Warning: B05006_100E has had multiple labels over the selected years:\n",
      "\t'Estimate!!Total!!Africa!!Northern Africa' in [2009, 2014]\n",
      "\t'Estimate!!Total!!Africa!!Middle Africa' in [2019]\n",
      "Warning: B05006_101E has had multiple labels over the selected years:\n",
      "\t'Estimate!!Total!!Africa!!Northern Africa!!Egypt' in [2009, 2014]\n",
      "\t'Estimate!!Total!!Africa!!Middle Africa!!Cameroon' in [2019]\n",
      "Warning: B05006_102E has had multiple labels over the selected years:\n",
      "\t'Estimate!!Total!!Africa!!Northern Africa!!Morocco' in [2009, 2014]\n",
      "\t'Estimate!!Total!!Africa!!Middle Africa!!Congo' in [2019]\n",
      "Warning: B05006_103E has had multiple labels over the selected years:\n",
      "\t'Estimate!!Total!!Africa!!Northern Africa!!Sudan' in [2009, 2014]\n",
      "\t'Estimate!!Total!!Africa!!Middle Africa!!Democratic Republic of Congo (Zaire)' in [2019]\n",
      "Warning: B05006_104E has had multiple labels over the selected years:\n",
      "\t'Estimate!!Total!!Africa!!Northern Africa!!Other Northern Africa' in [2009, 2014]\n",
      "\t'Estimate!!Total!!Africa!!Middle Africa!!Other Middle Africa' in [2019]\n",
      "Warning: B05006_105E has had multiple labels over the selected years:\n",
      "\t'Estimate!!Total!!Africa!!Southern Africa' in [2009, 2014]\n",
      "\t'Estimate!!Total!!Africa!!Northern Africa' in [2019]\n",
      "Warning: B05006_106E has had multiple labels over the selected years:\n",
      "\t'Estimate!!Total!!Africa!!Southern Africa!!South Africa' in [2009, 2014]\n",
      "\t'Estimate!!Total!!Africa!!Northern Africa!!Egypt' in [2019]\n",
      "Warning: B05006_107E has had multiple labels over the selected years:\n",
      "\t'Estimate!!Total!!Africa!!Southern Africa!!Other Southern Africa' in [2009, 2014]\n",
      "\t'Estimate!!Total!!Africa!!Northern Africa!!Morocco' in [2019]\n",
      "Warning: B05006_108E has had multiple labels over the selected years:\n",
      "\t'Estimate!!Total!!Africa!!Western Africa' in [2009, 2014]\n",
      "\t'Estimate!!Total!!Africa!!Northern Africa!!Sudan' in [2019]\n",
      "Warning: B05006_109E has had multiple labels over the selected years:\n",
      "\t'Estimate!!Total!!Africa!!Western Africa!!Cape Verde' in [2009]\n",
      "\t'Estimate!!Total!!Africa!!Western Africa!!Cabo Verde' in [2014]\n",
      "\t'Estimate!!Total!!Africa!!Northern Africa!!Other Northern Africa' in [2019]\n",
      "Warning: B05006_110E has had multiple labels over the selected years:\n",
      "\t'Estimate!!Total!!Africa!!Western Africa!!Ghana' in [2009, 2014]\n",
      "\t'Estimate!!Total!!Africa!!Southern Africa' in [2019]\n",
      "Warning: B05006_111E has had multiple labels over the selected years:\n",
      "\t'Estimate!!Total!!Africa!!Western Africa!!Liberia' in [2009, 2014]\n",
      "\t'Estimate!!Total!!Africa!!Southern Africa!!South Africa' in [2019]\n",
      "Warning: B05006_112E has had multiple labels over the selected years:\n",
      "\t'Estimate!!Total!!Africa!!Western Africa!!Nigeria' in [2009, 2014]\n",
      "\t'Estimate!!Total!!Africa!!Southern Africa!!Other Southern Africa' in [2019]\n",
      "Warning: B05006_113E has had multiple labels over the selected years:\n",
      "\t'Estimate!!Total!!Africa!!Western Africa!!Sierra Leone' in [2009, 2014]\n",
      "\t'Estimate!!Total!!Africa!!Western Africa' in [2019]\n",
      "Warning: B05006_114E has had multiple labels over the selected years:\n",
      "\t'Estimate!!Total!!Africa!!Western Africa!!Other Western Africa' in [2009, 2014]\n",
      "\t'Estimate!!Total!!Africa!!Western Africa!!Cabo Verde' in [2019]\n",
      "Warning: B05006_115E has had multiple labels over the selected years:\n",
      "\t'Estimate!!Total!!Africa!!Africa, n.e.c.' in [2009, 2014]\n",
      "\t'Estimate!!Total!!Africa!!Western Africa!!Ghana' in [2019]\n",
      "Warning: B05006_116E has had multiple labels over the selected years:\n",
      "\t'Estimate!!Total!!Oceania' in [2009, 2014]\n",
      "\t'Estimate!!Total!!Africa!!Western Africa!!Liberia' in [2019]\n",
      "Warning: B05006_117E has had multiple labels over the selected years:\n",
      "\t'Estimate!!Total!!Oceania!!Australia and New Zealand Subregion' in [2009, 2014]\n",
      "\t'Estimate!!Total!!Africa!!Western Africa!!Nigeria' in [2019]\n",
      "Warning: B05006_118E has had multiple labels over the selected years:\n",
      "\t'Estimate!!Total!!Oceania!!Australia and New Zealand Subregion!!Australia' in [2009, 2014]\n",
      "\t'Estimate!!Total!!Africa!!Western Africa!!Senegal' in [2019]\n",
      "Warning: B05006_119E has had multiple labels over the selected years:\n",
      "\t'Estimate!!Total!!Oceania!!Australia and New Zealand Subregion!!Other Australian and New Zealand Subregion' in [2009, 2014]\n",
      "\t'Estimate!!Total!!Africa!!Western Africa!!Sierra Leone' in [2019]\n",
      "Warning: B05006_120E has had multiple labels over the selected years:\n",
      "\t'Estimate!!Total!!Oceania!!Fiji' in [2009, 2014]\n",
      "\t'Estimate!!Total!!Africa!!Western Africa!!Other Western Africa' in [2019]\n",
      "Warning: B05006_121E has had multiple labels over the selected years:\n",
      "\t'Estimate!!Total!!Oceania!!Oceania, n.e.c.' in [2009, 2014]\n",
      "\t'Estimate!!Total!!Africa!!Africa, n.e.c.' in [2019]\n",
      "Warning: B05006_122E has had multiple labels over the selected years:\n",
      "\t'Estimate!!Total!!Americas' in [2009, 2014]\n",
      "\t'Estimate!!Total!!Oceania' in [2019]\n",
      "Warning: B05006_123E has had multiple labels over the selected years:\n",
      "\t'Estimate!!Total!!Americas!!Latin America' in [2009, 2014]\n",
      "\t'Estimate!!Total!!Oceania!!Australia and New Zealand Subregion' in [2019]\n",
      "Warning: B05006_124E has had multiple labels over the selected years:\n",
      "\t'Estimate!!Total!!Americas!!Latin America!!Caribbean' in [2009, 2014]\n",
      "\t'Estimate!!Total!!Oceania!!Australia and New Zealand Subregion!!Australia' in [2019]\n",
      "Warning: B05006_125E has had multiple labels over the selected years:\n",
      "\t'Estimate!!Total!!Americas!!Latin America!!Caribbean!!Bahamas' in [2009, 2014]\n",
      "\t'Estimate!!Total!!Oceania!!Australia and New Zealand Subregion!!Other Australian and New Zealand Subregion' in [2019]\n",
      "Warning: B05006_126E has had multiple labels over the selected years:\n",
      "\t'Estimate!!Total!!Americas!!Latin America!!Caribbean!!Barbados' in [2009, 2014]\n",
      "\t'Estimate!!Total!!Oceania!!Fiji' in [2019]\n",
      "Warning: B05006_127E has had multiple labels over the selected years:\n",
      "\t'Estimate!!Total!!Americas!!Latin America!!Caribbean!!Cuba' in [2009, 2014]\n",
      "\t'Estimate!!Total!!Oceania!!Micronesia' in [2019]\n",
      "Warning: B05006_128E has had multiple labels over the selected years:\n",
      "\t'Estimate!!Total!!Americas!!Latin America!!Caribbean!!Dominica' in [2009, 2014]\n",
      "\t'Estimate!!Total!!Oceania!!Oceania, n.e.c.' in [2019]\n",
      "Warning: B05006_129E has had multiple labels over the selected years:\n",
      "\t'Estimate!!Total!!Americas!!Latin America!!Caribbean!!Dominican Republic' in [2009, 2014]\n",
      "\t'Estimate!!Total!!Americas' in [2019]\n",
      "Warning: B05006_130E has had multiple labels over the selected years:\n",
      "\t'Estimate!!Total!!Americas!!Latin America!!Caribbean!!Grenada' in [2009, 2014]\n",
      "\t'Estimate!!Total!!Americas!!Latin America' in [2019]\n",
      "Warning: B05006_131E has had multiple labels over the selected years:\n",
      "\t'Estimate!!Total!!Americas!!Latin America!!Caribbean!!Haiti' in [2009, 2014]\n",
      "\t'Estimate!!Total!!Americas!!Latin America!!Caribbean' in [2019]\n",
      "Warning: B05006_132E has had multiple labels over the selected years:\n",
      "\t'Estimate!!Total!!Americas!!Latin America!!Caribbean!!Jamaica' in [2009, 2014]\n",
      "\t'Estimate!!Total!!Americas!!Latin America!!Caribbean!!Bahamas' in [2019]\n",
      "Warning: B05006_133E has had multiple labels over the selected years:\n",
      "\t'Estimate!!Total!!Americas!!Latin America!!Caribbean!!St. Vincent and the Grenadines' in [2009, 2014]\n",
      "\t'Estimate!!Total!!Americas!!Latin America!!Caribbean!!Barbados' in [2019]\n",
      "Warning: B05006_134E has had multiple labels over the selected years:\n",
      "\t'Estimate!!Total!!Americas!!Latin America!!Caribbean!!Trinidad and Tobago' in [2009, 2014]\n",
      "\t'Estimate!!Total!!Americas!!Latin America!!Caribbean!!Cuba' in [2019]\n",
      "Warning: B05006_135E has had multiple labels over the selected years:\n",
      "\t'Estimate!!Total!!Americas!!Latin America!!Caribbean!!West Indies' in [2009, 2014]\n",
      "\t'Estimate!!Total!!Americas!!Latin America!!Caribbean!!Dominica' in [2019]\n",
      "Warning: B05006_136E has had multiple labels over the selected years:\n",
      "\t'Estimate!!Total!!Americas!!Latin America!!Caribbean!!Other Caribbean' in [2009, 2014]\n",
      "\t'Estimate!!Total!!Americas!!Latin America!!Caribbean!!Dominican Republic' in [2019]\n",
      "Warning: B05006_137E has had multiple labels over the selected years:\n",
      "\t'Estimate!!Total!!Americas!!Latin America!!Central America' in [2009, 2014]\n",
      "\t'Estimate!!Total!!Americas!!Latin America!!Caribbean!!Grenada' in [2019]\n",
      "Warning: B05006_138E has had multiple labels over the selected years:\n",
      "\t'Estimate!!Total!!Americas!!Latin America!!Central America!!Mexico' in [2009, 2014]\n",
      "\t'Estimate!!Total!!Americas!!Latin America!!Caribbean!!Haiti' in [2019]\n",
      "Warning: B05006_139E has had multiple labels over the selected years:\n",
      "\t'Estimate!!Total!!Americas!!Latin America!!Central America!!Belize' in [2009, 2014]\n",
      "\t'Estimate!!Total!!Americas!!Latin America!!Caribbean!!Jamaica' in [2019]\n",
      "Warning: B05006_140E has had multiple labels over the selected years:\n",
      "\t'Estimate!!Total!!Americas!!Latin America!!Central America!!Costa Rica' in [2009, 2014]\n",
      "\t'Estimate!!Total!!Americas!!Latin America!!Caribbean!!St. Vincent and the Grenadines' in [2019]\n",
      "Warning: B05006_141E has had multiple labels over the selected years:\n",
      "\t'Estimate!!Total!!Americas!!Latin America!!Central America!!El Salvador' in [2009, 2014]\n",
      "\t'Estimate!!Total!!Americas!!Latin America!!Caribbean!!Trinidad and Tobago' in [2019]\n",
      "Warning: B05006_142E has had multiple labels over the selected years:\n",
      "\t'Estimate!!Total!!Americas!!Latin America!!Central America!!Guatemala' in [2009, 2014]\n",
      "\t'Estimate!!Total!!Americas!!Latin America!!Caribbean!!West Indies' in [2019]\n",
      "Warning: B05006_143E has had multiple labels over the selected years:\n",
      "\t'Estimate!!Total!!Americas!!Latin America!!Central America!!Honduras' in [2009, 2014]\n",
      "\t'Estimate!!Total!!Americas!!Latin America!!Caribbean!!Other Caribbean' in [2019]\n",
      "Warning: B05006_144E has had multiple labels over the selected years:\n",
      "\t'Estimate!!Total!!Americas!!Latin America!!Central America!!Nicaragua' in [2009, 2014]\n",
      "\t'Estimate!!Total!!Americas!!Latin America!!Central America' in [2019]\n",
      "Warning: B05006_145E has had multiple labels over the selected years:\n",
      "\t'Estimate!!Total!!Americas!!Latin America!!Central America!!Panama' in [2009, 2014]\n",
      "\t'Estimate!!Total!!Americas!!Latin America!!Central America!!Belize' in [2019]\n",
      "Warning: B05006_146E has had multiple labels over the selected years:\n",
      "\t'Estimate!!Total!!Americas!!Latin America!!Central America!!Other Central America' in [2009, 2014]\n",
      "\t'Estimate!!Total!!Americas!!Latin America!!Central America!!Costa Rica' in [2019]\n",
      "Warning: B05006_147E has had multiple labels over the selected years:\n",
      "\t'Estimate!!Total!!Americas!!Latin America!!South America' in [2009, 2014]\n",
      "\t'Estimate!!Total!!Americas!!Latin America!!Central America!!El Salvador' in [2019]\n",
      "Warning: B05006_148E has had multiple labels over the selected years:\n",
      "\t'Estimate!!Total!!Americas!!Latin America!!South America!!Argentina' in [2009, 2014]\n",
      "\t'Estimate!!Total!!Americas!!Latin America!!Central America!!Guatemala' in [2019]\n",
      "Warning: B05006_149E has had multiple labels over the selected years:\n",
      "\t'Estimate!!Total!!Americas!!Latin America!!South America!!Bolivia' in [2009, 2014]\n",
      "\t'Estimate!!Total!!Americas!!Latin America!!Central America!!Honduras' in [2019]\n",
      "Warning: B05006_150E has had multiple labels over the selected years:\n",
      "\t'Estimate!!Total!!Americas!!Latin America!!South America!!Brazil' in [2009, 2014]\n",
      "\t'Estimate!!Total!!Americas!!Latin America!!Central America!!Mexico' in [2019]\n",
      "Warning: B05006_151E has had multiple labels over the selected years:\n",
      "\t'Estimate!!Total!!Americas!!Latin America!!South America!!Chile' in [2009, 2014]\n",
      "\t'Estimate!!Total!!Americas!!Latin America!!Central America!!Nicaragua' in [2019]\n",
      "Warning: B05006_152E has had multiple labels over the selected years:\n",
      "\t'Estimate!!Total!!Americas!!Latin America!!South America!!Colombia' in [2009, 2014]\n",
      "\t'Estimate!!Total!!Americas!!Latin America!!Central America!!Panama' in [2019]\n",
      "Warning: B05006_153E has had multiple labels over the selected years:\n",
      "\t'Estimate!!Total!!Americas!!Latin America!!South America!!Ecuador' in [2009, 2014]\n",
      "\t'Estimate!!Total!!Americas!!Latin America!!Central America!!Other Central America' in [2019]\n",
      "Warning: B05006_154E has had multiple labels over the selected years:\n",
      "\t'Estimate!!Total!!Americas!!Latin America!!South America!!Guyana' in [2009, 2014]\n",
      "\t'Estimate!!Total!!Americas!!Latin America!!South America' in [2019]\n",
      "Warning: B05006_155E has had multiple labels over the selected years:\n",
      "\t'Estimate!!Total!!Americas!!Latin America!!South America!!Peru' in [2009, 2014]\n",
      "\t'Estimate!!Total!!Americas!!Latin America!!South America!!Argentina' in [2019]\n",
      "Warning: B05006_156E has had multiple labels over the selected years:\n",
      "\t'Estimate!!Total!!Americas!!Latin America!!South America!!Uruguay' in [2009, 2014]\n",
      "\t'Estimate!!Total!!Americas!!Latin America!!South America!!Bolivia' in [2019]\n",
      "Warning: B05006_157E has had multiple labels over the selected years:\n",
      "\t'Estimate!!Total!!Americas!!Latin America!!South America!!Venezuela' in [2009, 2014]\n",
      "\t'Estimate!!Total!!Americas!!Latin America!!South America!!Brazil' in [2019]\n",
      "Warning: B05006_158E has had multiple labels over the selected years:\n",
      "\t'Estimate!!Total!!Americas!!Latin America!!South America!!Other South America' in [2009, 2014]\n",
      "\t'Estimate!!Total!!Americas!!Latin America!!South America!!Chile' in [2019]\n",
      "Warning: B05006_159E has had multiple labels over the selected years:\n",
      "\t'Estimate!!Total!!Americas!!Northern America' in [2009, 2014]\n",
      "\t'Estimate!!Total!!Americas!!Latin America!!South America!!Colombia' in [2019]\n",
      "Warning: B05006_160E has had multiple labels over the selected years:\n",
      "\t'Estimate!!Total!!Americas!!Northern America!!Canada' in [2009, 2014]\n",
      "\t'Estimate!!Total!!Americas!!Latin America!!South America!!Ecuador' in [2019]\n",
      "Warning: B05006_161E has had multiple labels over the selected years:\n",
      "\t'Estimate!!Total!!Americas!!Northern America!!Other Northern America' in [2009, 2014]\n",
      "\t'Estimate!!Total!!Americas!!Latin America!!South America!!Guyana' in [2019]\n"
     ]
    },
    {
     "ename": "CensusApiException",
     "evalue": "Census API request to https://api.census.gov/data/2009/acs/acs5/variables/B05006_162E.json failed with status 404. <!doctype html><html lang=\"en\"><head><title>HTTP Status 404 – Not Found</title><style type=\"text/css\">body {font-family:Tahoma,Arial,sans-serif;} h1, h2, h3, b {color:white;background-color:#525D76;} h1 {font-size:22px;} h2 {font-size:16px;} h3 {font-size:14px;} p {font-size:12px;} a {color:black;} .line {height:1px;background-color:#525D76;border:none;}</style></head><body><h1>HTTP Status 404 – Not Found</h1></body></html>",
     "output_type": "error",
     "traceback": [
      "\u001b[0;31m---------------------------------------------------------------------------\u001b[0m",
      "\u001b[0;31mCensusApiException\u001b[0m                        Traceback (most recent call last)",
      "Cell \u001b[0;32mIn[3], line 1\u001b[0m\n\u001b[0;32m----> 1\u001b[0m df \u001b[38;5;241m=\u001b[39m \u001b[43mdownload_multiyear\u001b[49m\u001b[43m(\u001b[49m\n\u001b[1;32m      2\u001b[0m \u001b[43m    \u001b[49m\u001b[43mdataset\u001b[49m\u001b[38;5;241;43m=\u001b[39;49m\u001b[43mACS5\u001b[49m\u001b[43m,\u001b[49m\n\u001b[1;32m      3\u001b[0m \u001b[43m    \u001b[49m\u001b[43mvintages\u001b[49m\u001b[38;5;241;43m=\u001b[39;49m\u001b[43m[\u001b[49m\u001b[38;5;241;43m2009\u001b[39;49m\u001b[43m,\u001b[49m\u001b[43m \u001b[49m\u001b[38;5;241;43m2014\u001b[39;49m\u001b[43m,\u001b[49m\u001b[43m \u001b[49m\u001b[38;5;241;43m2019\u001b[39;49m\u001b[43m]\u001b[49m\u001b[43m,\u001b[49m\n\u001b[1;32m      4\u001b[0m \u001b[43m    \u001b[49m\u001b[43mgroup\u001b[49m\u001b[38;5;241;43m=\u001b[39;49m\u001b[38;5;124;43m\"\u001b[39;49m\u001b[38;5;124;43mB05006\u001b[39;49m\u001b[38;5;124;43m\"\u001b[39;49m\u001b[43m,\u001b[49m\n\u001b[1;32m      5\u001b[0m \u001b[43m    \u001b[49m\u001b[43mstate\u001b[49m\u001b[38;5;241;43m=\u001b[39;49m\u001b[43mNY\u001b[49m\u001b[43m,\u001b[49m\n\u001b[1;32m      6\u001b[0m \u001b[43m    \u001b[49m\u001b[43mschool_district_unified\u001b[49m\u001b[38;5;241;43m=\u001b[39;49m\u001b[38;5;124;43m\"\u001b[39;49m\u001b[38;5;124;43m12510\u001b[39;49m\u001b[38;5;124;43m\"\u001b[39;49m\u001b[43m,\u001b[49m\n\u001b[1;32m      7\u001b[0m \u001b[43m    \u001b[49m\u001b[43mprompt\u001b[49m\u001b[38;5;241;43m=\u001b[39;49m\u001b[38;5;28;43;01mFalse\u001b[39;49;00m\u001b[43m,\u001b[49m\n\u001b[1;32m      8\u001b[0m \u001b[43m)\u001b[49m\n\u001b[1;32m      9\u001b[0m df\n",
      "File \u001b[0;32m~/uv-projects/hometown_analysis/utils.py:206\u001b[0m, in \u001b[0;36mdownload_multiyear\u001b[0;34m(dataset, vintages, group, rename_vars, drop_cols, prompt, **kwargs)\u001b[0m\n\u001b[1;32m    201\u001b[0m         df \u001b[38;5;241m=\u001b[39m pd\u001b[38;5;241m.\u001b[39mconcat([df, df_new])\n\u001b[1;32m    203\u001b[0m \u001b[38;5;66;03m# In the ACS, Sometimes the same variable is used for different things in different years.\u001b[39;00m\n\u001b[1;32m    204\u001b[0m \u001b[38;5;66;03m# For an example see https://arilamstein.com/blog/2024/05/28/creating-time-series-data-from-the-american-community-survey-acs/\u001b[39;00m\n\u001b[1;32m    205\u001b[0m \u001b[38;5;66;03m# This code alerts users of any variables which have had different labels over time.\u001b[39;00m\n\u001b[0;32m--> 206\u001b[0m \u001b[43mwarn_variable_changes\u001b[49m\u001b[43m(\u001b[49m\u001b[43mdf\u001b[49m\u001b[43m,\u001b[49m\u001b[43m \u001b[49m\u001b[43mdataset\u001b[49m\u001b[43m,\u001b[49m\u001b[43m \u001b[49m\u001b[43mvintages\u001b[49m\u001b[43m,\u001b[49m\u001b[43m \u001b[49m\u001b[43mprompt\u001b[49m\u001b[43m,\u001b[49m\u001b[43m \u001b[49m\u001b[43mgroup\u001b[49m\u001b[43m,\u001b[49m\u001b[43m \u001b[49m\u001b[38;5;28;43;01mNone\u001b[39;49;00m\u001b[43m)\u001b[49m\n\u001b[1;32m    208\u001b[0m \u001b[38;5;28;01mif\u001b[39;00m drop_cols:\n\u001b[1;32m    209\u001b[0m     df \u001b[38;5;241m=\u001b[39m df[[col \u001b[38;5;28;01mfor\u001b[39;00m col \u001b[38;5;129;01min\u001b[39;00m df\u001b[38;5;241m.\u001b[39mcolumns \u001b[38;5;28;01mif\u001b[39;00m col\u001b[38;5;241m.\u001b[39mstartswith(group) \u001b[38;5;129;01mor\u001b[39;00m col \u001b[38;5;241m==\u001b[39m \u001b[38;5;124m\"\u001b[39m\u001b[38;5;124mYear\u001b[39m\u001b[38;5;124m\"\u001b[39m]]\n",
      "File \u001b[0;32m~/uv-projects/hometown_analysis/utils.py:121\u001b[0m, in \u001b[0;36mwarn_variable_changes\u001b[0;34m(df, dataset, vintages, prompt, group, download_variables)\u001b[0m\n\u001b[1;32m    118\u001b[0m \u001b[38;5;28;01mif\u001b[39;00m \u001b[38;5;129;01mnot\u001b[39;00m analyze_column(col, group, download_variables):\n\u001b[1;32m    119\u001b[0m     \u001b[38;5;28;01mcontinue\u001b[39;00m\n\u001b[0;32m--> 121\u001b[0m unique_labels_for_variable \u001b[38;5;241m=\u001b[39m \u001b[43mget_unique_labels_for_variable\u001b[49m\u001b[43m(\u001b[49m\n\u001b[1;32m    122\u001b[0m \u001b[43m    \u001b[49m\u001b[43mdataset\u001b[49m\u001b[43m,\u001b[49m\u001b[43m \u001b[49m\u001b[43mcol\u001b[49m\u001b[43m,\u001b[49m\u001b[43m \u001b[49m\u001b[43mvintages\u001b[49m\n\u001b[1;32m    123\u001b[0m \u001b[43m\u001b[49m\u001b[43m)\u001b[49m\n\u001b[1;32m    125\u001b[0m \u001b[38;5;28;01mif\u001b[39;00m \u001b[38;5;28mlen\u001b[39m(unique_labels_for_variable) \u001b[38;5;241m>\u001b[39m \u001b[38;5;241m1\u001b[39m:\n\u001b[1;32m    126\u001b[0m     \u001b[38;5;28mprint\u001b[39m(\u001b[38;5;124mf\u001b[39m\u001b[38;5;124m\"\u001b[39m\u001b[38;5;124mWarning: \u001b[39m\u001b[38;5;132;01m{\u001b[39;00mcol\u001b[38;5;132;01m}\u001b[39;00m\u001b[38;5;124m has had multiple labels over the selected years:\u001b[39m\u001b[38;5;124m\"\u001b[39m)\n",
      "File \u001b[0;32m~/uv-projects/hometown_analysis/utils.py:94\u001b[0m, in \u001b[0;36mget_unique_labels_for_variable\u001b[0;34m(acs, variable, years)\u001b[0m\n\u001b[1;32m     91\u001b[0m labels \u001b[38;5;241m=\u001b[39m defaultdict(\u001b[38;5;28mlist\u001b[39m)\n\u001b[1;32m     93\u001b[0m \u001b[38;5;28;01mfor\u001b[39;00m year \u001b[38;5;129;01min\u001b[39;00m years:\n\u001b[0;32m---> 94\u001b[0m     label \u001b[38;5;241m=\u001b[39m \u001b[43mced\u001b[49m\u001b[38;5;241;43m.\u001b[39;49m\u001b[43mvariables\u001b[49m\u001b[38;5;241;43m.\u001b[39;49m\u001b[43mget\u001b[49m\u001b[43m(\u001b[49m\u001b[43macs\u001b[49m\u001b[43m,\u001b[49m\u001b[43m \u001b[49m\u001b[43myear\u001b[49m\u001b[43m,\u001b[49m\u001b[43m \u001b[49m\u001b[43mvariable\u001b[49m\u001b[43m)\u001b[49m[\u001b[38;5;124m\"\u001b[39m\u001b[38;5;124mlabel\u001b[39m\u001b[38;5;124m\"\u001b[39m]\n\u001b[1;32m     95\u001b[0m     label \u001b[38;5;241m=\u001b[39m label\u001b[38;5;241m.\u001b[39mreplace(\u001b[38;5;124m\"\u001b[39m\u001b[38;5;124m:\u001b[39m\u001b[38;5;124m\"\u001b[39m, \u001b[38;5;124m\"\u001b[39m\u001b[38;5;124m\"\u001b[39m)\n\u001b[1;32m     97\u001b[0m     labels[label]\u001b[38;5;241m.\u001b[39mappend(year)\n",
      "File \u001b[0;32m~/uv-projects/hometown_analysis/.venv/lib/python3.13/site-packages/censusdis/impl/varcache.py:92\u001b[0m, in \u001b[0;36mVariableCache.get\u001b[0;34m(self, dataset, year, name)\u001b[0m\n\u001b[1;32m     89\u001b[0m \u001b[38;5;28;01mif\u001b[39;00m cached_value \u001b[38;5;129;01mis\u001b[39;00m \u001b[38;5;129;01mnot\u001b[39;00m \u001b[38;5;28;01mNone\u001b[39;00m:\n\u001b[1;32m     90\u001b[0m     \u001b[38;5;28;01mreturn\u001b[39;00m cached_value\n\u001b[0;32m---> 92\u001b[0m value \u001b[38;5;241m=\u001b[39m \u001b[38;5;28;43mself\u001b[39;49m\u001b[38;5;241;43m.\u001b[39;49m\u001b[43m_variable_source\u001b[49m\u001b[38;5;241;43m.\u001b[39;49m\u001b[43mget\u001b[49m\u001b[43m(\u001b[49m\u001b[43mdataset\u001b[49m\u001b[43m,\u001b[49m\u001b[43m \u001b[49m\u001b[43myear\u001b[49m\u001b[43m,\u001b[49m\u001b[43m \u001b[49m\u001b[43mname\u001b[49m\u001b[43m)\u001b[49m\n\u001b[1;32m     94\u001b[0m \u001b[38;5;28mself\u001b[39m\u001b[38;5;241m.\u001b[39m_variable_cache[dataset][year][name] \u001b[38;5;241m=\u001b[39m value\n\u001b[1;32m     96\u001b[0m \u001b[38;5;28;01mreturn\u001b[39;00m value\n",
      "File \u001b[0;32m~/uv-projects/hometown_analysis/.venv/lib/python3.13/site-packages/censusdis/impl/varsource/censusapi.py:141\u001b[0m, in \u001b[0;36mCensusApiVariableSource.get\u001b[0;34m(self, dataset, year, name)\u001b[0m\n\u001b[1;32m    139\u001b[0m \u001b[38;5;250m\u001b[39m\u001b[38;5;124;03m\"\"\"Get info on a dataset via a remote query to the U.S. Census API.\"\"\"\u001b[39;00m\n\u001b[1;32m    140\u001b[0m url \u001b[38;5;241m=\u001b[39m \u001b[38;5;28mself\u001b[39m\u001b[38;5;241m.\u001b[39murl(dataset, year, name)\n\u001b[0;32m--> 141\u001b[0m value \u001b[38;5;241m=\u001b[39m \u001b[43mjson_from_url\u001b[49m\u001b[43m(\u001b[49m\u001b[43murl\u001b[49m\u001b[43m)\u001b[49m\n\u001b[1;32m    143\u001b[0m \u001b[38;5;28;01mreturn\u001b[39;00m value\n",
      "File \u001b[0;32m~/uv-projects/hometown_analysis/.venv/lib/python3.13/site-packages/censusdis/impl/fetch.py:174\u001b[0m, in \u001b[0;36mjson_from_url\u001b[0;34m(url, params)\u001b[0m\n\u001b[1;32m    172\u001b[0m message \u001b[38;5;241m=\u001b[39m \u001b[38;5;124mf\u001b[39m\u001b[38;5;124m\"\u001b[39m\u001b[38;5;124mCensus API request to \u001b[39m\u001b[38;5;132;01m{\u001b[39;00mrequest\u001b[38;5;241m.\u001b[39murl\u001b[38;5;132;01m}\u001b[39;00m\u001b[38;5;124m failed with status \u001b[39m\u001b[38;5;132;01m{\u001b[39;00mrequest\u001b[38;5;241m.\u001b[39mstatus_code\u001b[38;5;132;01m}\u001b[39;00m\u001b[38;5;124m. \u001b[39m\u001b[38;5;132;01m{\u001b[39;00mrequest\u001b[38;5;241m.\u001b[39mtext\u001b[38;5;132;01m}\u001b[39;00m\u001b[38;5;124m\"\u001b[39m\n\u001b[1;32m    173\u001b[0m logger\u001b[38;5;241m.\u001b[39mdebug(message)\n\u001b[0;32m--> 174\u001b[0m \u001b[38;5;28;01mraise\u001b[39;00m CensusApiException(message)\n",
      "\u001b[0;31mCensusApiException\u001b[0m: Census API request to https://api.census.gov/data/2009/acs/acs5/variables/B05006_162E.json failed with status 404. <!doctype html><html lang=\"en\"><head><title>HTTP Status 404 – Not Found</title><style type=\"text/css\">body {font-family:Tahoma,Arial,sans-serif;} h1, h2, h3, b {color:white;background-color:#525D76;} h1 {font-size:22px;} h2 {font-size:16px;} h3 {font-size:14px;} p {font-size:12px;} a {color:black;} .line {height:1px;background-color:#525D76;border:none;}</style></head><body><h1>HTTP Status 404 – Not Found</h1></body></html>"
     ]
    }
   ],
   "source": [
    "df = download_multiyear(\n",
    "    dataset=ACS5,\n",
    "    vintages=[2009, 2014, 2019],\n",
    "    group=\"B05006\",\n",
    "    state=NY,\n",
    "    school_district_unified=\"12510\",\n",
    "    prompt=False,\n",
    ")\n",
    "df"
   ]
  },
  {
   "cell_type": "markdown",
   "metadata": {},
   "source": [
    "This fails because some of the columns in this table have changed over time. That's what each of these warnings means.\n",
    "\n",
    "### Selecting Columns\n",
    "\n",
    "My next step was to wonder whether the columns that I actually care about have changed over the years. I am not sure the best way to do this, but after reading the [Exploring Variables](https://github.com/censusdis/censusdis/blob/main/notebooks/Exploring%20Variables.ipynb) notebook in the `censusdis` repo I realized that one way would be to view the Census API pages for each (year, table) combination that I am interested in: [2019](https://api.census.gov/data/2019/acs/acs5/groups/B05006.html), [2014](https://api.census.gov/data/2014/acs/acs5/groups/B05006.html), [2009](https://api.census.gov/data/2009/acs/acs5/groups/B05006.html).\n",
    "\n",
    "Searching those pages for \"China\", \"Iran\" and \"Korea\" you can see that: \n",
    " * China was consistently assigned `B05006_049E`. \n",
    " * Iran was consistently assigned `B05006_060E`.\n",
    " * Korea was consistently assigned `B05006_054E`.\n",
    "\n",
    "### New Function: download_multiyear_variables\n",
    "\n",
    "I previously wrote a function `download_multiyear` to get all columns for a single table (called `group` in censusdis). I just wrote a new function, `download_multiyear_variables` to do something similar, but just for a handful of variables. Here is how to use it to download the data we are interested in:"
   ]
  },
  {
   "cell_type": "code",
   "execution_count": 4,
   "metadata": {},
   "outputs": [
    {
     "name": "stdout",
     "output_type": "stream",
     "text": [
      "..."
     ]
    },
    {
     "data": {
      "text/html": [
       "<div>\n",
       "<style scoped>\n",
       "    .dataframe tbody tr th:only-of-type {\n",
       "        vertical-align: middle;\n",
       "    }\n",
       "\n",
       "    .dataframe tbody tr th {\n",
       "        vertical-align: top;\n",
       "    }\n",
       "\n",
       "    .dataframe thead th {\n",
       "        text-align: right;\n",
       "    }\n",
       "</style>\n",
       "<table border=\"1\" class=\"dataframe\">\n",
       "  <thead>\n",
       "    <tr style=\"text-align: right;\">\n",
       "      <th></th>\n",
       "      <th>China</th>\n",
       "      <th>Iran</th>\n",
       "      <th>Korea</th>\n",
       "      <th>Year</th>\n",
       "    </tr>\n",
       "  </thead>\n",
       "  <tbody>\n",
       "    <tr>\n",
       "      <th>0</th>\n",
       "      <td>1543</td>\n",
       "      <td>4424</td>\n",
       "      <td>857</td>\n",
       "      <td>2009</td>\n",
       "    </tr>\n",
       "    <tr>\n",
       "      <th>0</th>\n",
       "      <td>2593</td>\n",
       "      <td>5168</td>\n",
       "      <td>918</td>\n",
       "      <td>2014</td>\n",
       "    </tr>\n",
       "    <tr>\n",
       "      <th>0</th>\n",
       "      <td>3768</td>\n",
       "      <td>3723</td>\n",
       "      <td>1179</td>\n",
       "      <td>2019</td>\n",
       "    </tr>\n",
       "  </tbody>\n",
       "</table>\n",
       "</div>"
      ],
      "text/plain": [
       "   China  Iran  Korea  Year\n",
       "0   1543  4424    857  2009\n",
       "0   2593  5168    918  2014\n",
       "0   3768  3723   1179  2019"
      ]
     },
     "execution_count": 4,
     "metadata": {},
     "output_type": "execute_result"
    }
   ],
   "source": [
    "from censusdis.datasets import ACS5\n",
    "from censusdis.states import NY\n",
    "\n",
    "from utils import download_multiyear_variables\n",
    "\n",
    "df = download_multiyear_variables(\n",
    "    dataset=ACS5,\n",
    "    vintages=[2009, 2014, 2019],\n",
    "    download_variables=[\"B05006_049E\", \"B05006_060E\", \"B05006_054E\"],\n",
    "    state=NY,\n",
    "    school_district_unified=\"12510\",\n",
    "    drop_cols=True,\n",
    ")\n",
    "df"
   ]
  },
  {
   "cell_type": "code",
   "execution_count": null,
   "metadata": {},
   "outputs": [
    {
     "name": "stdout",
     "output_type": "stream",
     "text": [
      "...Warning: B05006_004E has had multiple labels over the selected years:\n",
      "\t'Estimate!!Total!!Europe!!Northern Europe!!United Kingdom (inc. Crown Dependencies)' in [2009, 2014]\n",
      "\t'Estimate!!Total!!Europe!!Northern Europe!!Ireland' in [2019]\n"
     ]
    },
    {
     "data": {
      "text/html": [
       "<div>\n",
       "<style scoped>\n",
       "    .dataframe tbody tr th:only-of-type {\n",
       "        vertical-align: middle;\n",
       "    }\n",
       "\n",
       "    .dataframe tbody tr th {\n",
       "        vertical-align: top;\n",
       "    }\n",
       "\n",
       "    .dataframe thead th {\n",
       "        text-align: right;\n",
       "    }\n",
       "</style>\n",
       "<table border=\"1\" class=\"dataframe\">\n",
       "  <thead>\n",
       "    <tr style=\"text-align: right;\">\n",
       "      <th></th>\n",
       "      <th>Ireland</th>\n",
       "      <th>Year</th>\n",
       "    </tr>\n",
       "  </thead>\n",
       "  <tbody>\n",
       "    <tr>\n",
       "      <th>0</th>\n",
       "      <td>220</td>\n",
       "      <td>2009</td>\n",
       "    </tr>\n",
       "    <tr>\n",
       "      <th>0</th>\n",
       "      <td>137</td>\n",
       "      <td>2014</td>\n",
       "    </tr>\n",
       "    <tr>\n",
       "      <th>0</th>\n",
       "      <td>48</td>\n",
       "      <td>2019</td>\n",
       "    </tr>\n",
       "  </tbody>\n",
       "</table>\n",
       "</div>"
      ],
      "text/plain": [
       "   Ireland  Year\n",
       "0      220  2009\n",
       "0      137  2014\n",
       "0       48  2019"
      ]
     },
     "execution_count": 5,
     "metadata": {},
     "output_type": "execute_result"
    }
   ],
   "source": [
    "# Intentionally trigger warning\n",
    "#B05006_004E\n",
    "download_multiyear_variables(\n",
    "    dataset=ACS5,\n",
    "    vintages=[2009, 2014, 2019],\n",
    "    download_variables=[\"B05006_004E\"],\n",
    "    state=NY,\n",
    "    school_district_unified=\"12510\",\n",
    "    drop_cols=True,\n",
    ")"
   ]
  },
  {
   "cell_type": "markdown",
   "metadata": {},
   "source": [
    "We can graph the data using `graph_multiyear`, as before."
   ]
  },
  {
   "cell_type": "code",
   "execution_count": 6,
   "metadata": {},
   "outputs": [
    {
     "data": {
      "application/vnd.plotly.v1+json": {
       "config": {
        "plotlyServerURL": "https://plot.ly"
       },
       "data": [
        {
         "hovertemplate": "Year: %{x}<br>China: %{y:,}<extra></extra>",
         "line": {
          "color": "#E69F00"
         },
         "mode": "lines+markers",
         "name": "China",
         "type": "scatter",
         "x": [
          2009,
          2014,
          2019
         ],
         "y": [
          1543,
          2593,
          3768
         ]
        },
        {
         "hovertemplate": "Year: %{x}<br>Iran: %{y:,}<extra></extra>",
         "line": {
          "color": "#56B4E9"
         },
         "mode": "lines+markers",
         "name": "Iran",
         "type": "scatter",
         "x": [
          2009,
          2014,
          2019
         ],
         "y": [
          4424,
          5168,
          3723
         ]
        },
        {
         "hovertemplate": "Year: %{x}<br>Korea: %{y:,}<extra></extra>",
         "line": {
          "color": "#009E73"
         },
         "mode": "lines+markers",
         "name": "Korea",
         "type": "scatter",
         "x": [
          2009,
          2014,
          2019
         ],
         "y": [
          857,
          918,
          1179
         ]
        }
       ],
       "layout": {
        "template": {
         "data": {
          "bar": [
           {
            "error_x": {
             "color": "#2a3f5f"
            },
            "error_y": {
             "color": "#2a3f5f"
            },
            "marker": {
             "line": {
              "color": "#E5ECF6",
              "width": 0.5
             },
             "pattern": {
              "fillmode": "overlay",
              "size": 10,
              "solidity": 0.2
             }
            },
            "type": "bar"
           }
          ],
          "barpolar": [
           {
            "marker": {
             "line": {
              "color": "#E5ECF6",
              "width": 0.5
             },
             "pattern": {
              "fillmode": "overlay",
              "size": 10,
              "solidity": 0.2
             }
            },
            "type": "barpolar"
           }
          ],
          "carpet": [
           {
            "aaxis": {
             "endlinecolor": "#2a3f5f",
             "gridcolor": "white",
             "linecolor": "white",
             "minorgridcolor": "white",
             "startlinecolor": "#2a3f5f"
            },
            "baxis": {
             "endlinecolor": "#2a3f5f",
             "gridcolor": "white",
             "linecolor": "white",
             "minorgridcolor": "white",
             "startlinecolor": "#2a3f5f"
            },
            "type": "carpet"
           }
          ],
          "choropleth": [
           {
            "colorbar": {
             "outlinewidth": 0,
             "ticks": ""
            },
            "type": "choropleth"
           }
          ],
          "contour": [
           {
            "colorbar": {
             "outlinewidth": 0,
             "ticks": ""
            },
            "colorscale": [
             [
              0,
              "#0d0887"
             ],
             [
              0.1111111111111111,
              "#46039f"
             ],
             [
              0.2222222222222222,
              "#7201a8"
             ],
             [
              0.3333333333333333,
              "#9c179e"
             ],
             [
              0.4444444444444444,
              "#bd3786"
             ],
             [
              0.5555555555555556,
              "#d8576b"
             ],
             [
              0.6666666666666666,
              "#ed7953"
             ],
             [
              0.7777777777777778,
              "#fb9f3a"
             ],
             [
              0.8888888888888888,
              "#fdca26"
             ],
             [
              1,
              "#f0f921"
             ]
            ],
            "type": "contour"
           }
          ],
          "contourcarpet": [
           {
            "colorbar": {
             "outlinewidth": 0,
             "ticks": ""
            },
            "type": "contourcarpet"
           }
          ],
          "heatmap": [
           {
            "colorbar": {
             "outlinewidth": 0,
             "ticks": ""
            },
            "colorscale": [
             [
              0,
              "#0d0887"
             ],
             [
              0.1111111111111111,
              "#46039f"
             ],
             [
              0.2222222222222222,
              "#7201a8"
             ],
             [
              0.3333333333333333,
              "#9c179e"
             ],
             [
              0.4444444444444444,
              "#bd3786"
             ],
             [
              0.5555555555555556,
              "#d8576b"
             ],
             [
              0.6666666666666666,
              "#ed7953"
             ],
             [
              0.7777777777777778,
              "#fb9f3a"
             ],
             [
              0.8888888888888888,
              "#fdca26"
             ],
             [
              1,
              "#f0f921"
             ]
            ],
            "type": "heatmap"
           }
          ],
          "heatmapgl": [
           {
            "colorbar": {
             "outlinewidth": 0,
             "ticks": ""
            },
            "colorscale": [
             [
              0,
              "#0d0887"
             ],
             [
              0.1111111111111111,
              "#46039f"
             ],
             [
              0.2222222222222222,
              "#7201a8"
             ],
             [
              0.3333333333333333,
              "#9c179e"
             ],
             [
              0.4444444444444444,
              "#bd3786"
             ],
             [
              0.5555555555555556,
              "#d8576b"
             ],
             [
              0.6666666666666666,
              "#ed7953"
             ],
             [
              0.7777777777777778,
              "#fb9f3a"
             ],
             [
              0.8888888888888888,
              "#fdca26"
             ],
             [
              1,
              "#f0f921"
             ]
            ],
            "type": "heatmapgl"
           }
          ],
          "histogram": [
           {
            "marker": {
             "pattern": {
              "fillmode": "overlay",
              "size": 10,
              "solidity": 0.2
             }
            },
            "type": "histogram"
           }
          ],
          "histogram2d": [
           {
            "colorbar": {
             "outlinewidth": 0,
             "ticks": ""
            },
            "colorscale": [
             [
              0,
              "#0d0887"
             ],
             [
              0.1111111111111111,
              "#46039f"
             ],
             [
              0.2222222222222222,
              "#7201a8"
             ],
             [
              0.3333333333333333,
              "#9c179e"
             ],
             [
              0.4444444444444444,
              "#bd3786"
             ],
             [
              0.5555555555555556,
              "#d8576b"
             ],
             [
              0.6666666666666666,
              "#ed7953"
             ],
             [
              0.7777777777777778,
              "#fb9f3a"
             ],
             [
              0.8888888888888888,
              "#fdca26"
             ],
             [
              1,
              "#f0f921"
             ]
            ],
            "type": "histogram2d"
           }
          ],
          "histogram2dcontour": [
           {
            "colorbar": {
             "outlinewidth": 0,
             "ticks": ""
            },
            "colorscale": [
             [
              0,
              "#0d0887"
             ],
             [
              0.1111111111111111,
              "#46039f"
             ],
             [
              0.2222222222222222,
              "#7201a8"
             ],
             [
              0.3333333333333333,
              "#9c179e"
             ],
             [
              0.4444444444444444,
              "#bd3786"
             ],
             [
              0.5555555555555556,
              "#d8576b"
             ],
             [
              0.6666666666666666,
              "#ed7953"
             ],
             [
              0.7777777777777778,
              "#fb9f3a"
             ],
             [
              0.8888888888888888,
              "#fdca26"
             ],
             [
              1,
              "#f0f921"
             ]
            ],
            "type": "histogram2dcontour"
           }
          ],
          "mesh3d": [
           {
            "colorbar": {
             "outlinewidth": 0,
             "ticks": ""
            },
            "type": "mesh3d"
           }
          ],
          "parcoords": [
           {
            "line": {
             "colorbar": {
              "outlinewidth": 0,
              "ticks": ""
             }
            },
            "type": "parcoords"
           }
          ],
          "pie": [
           {
            "automargin": true,
            "type": "pie"
           }
          ],
          "scatter": [
           {
            "fillpattern": {
             "fillmode": "overlay",
             "size": 10,
             "solidity": 0.2
            },
            "type": "scatter"
           }
          ],
          "scatter3d": [
           {
            "line": {
             "colorbar": {
              "outlinewidth": 0,
              "ticks": ""
             }
            },
            "marker": {
             "colorbar": {
              "outlinewidth": 0,
              "ticks": ""
             }
            },
            "type": "scatter3d"
           }
          ],
          "scattercarpet": [
           {
            "marker": {
             "colorbar": {
              "outlinewidth": 0,
              "ticks": ""
             }
            },
            "type": "scattercarpet"
           }
          ],
          "scattergeo": [
           {
            "marker": {
             "colorbar": {
              "outlinewidth": 0,
              "ticks": ""
             }
            },
            "type": "scattergeo"
           }
          ],
          "scattergl": [
           {
            "marker": {
             "colorbar": {
              "outlinewidth": 0,
              "ticks": ""
             }
            },
            "type": "scattergl"
           }
          ],
          "scattermapbox": [
           {
            "marker": {
             "colorbar": {
              "outlinewidth": 0,
              "ticks": ""
             }
            },
            "type": "scattermapbox"
           }
          ],
          "scatterpolar": [
           {
            "marker": {
             "colorbar": {
              "outlinewidth": 0,
              "ticks": ""
             }
            },
            "type": "scatterpolar"
           }
          ],
          "scatterpolargl": [
           {
            "marker": {
             "colorbar": {
              "outlinewidth": 0,
              "ticks": ""
             }
            },
            "type": "scatterpolargl"
           }
          ],
          "scatterternary": [
           {
            "marker": {
             "colorbar": {
              "outlinewidth": 0,
              "ticks": ""
             }
            },
            "type": "scatterternary"
           }
          ],
          "surface": [
           {
            "colorbar": {
             "outlinewidth": 0,
             "ticks": ""
            },
            "colorscale": [
             [
              0,
              "#0d0887"
             ],
             [
              0.1111111111111111,
              "#46039f"
             ],
             [
              0.2222222222222222,
              "#7201a8"
             ],
             [
              0.3333333333333333,
              "#9c179e"
             ],
             [
              0.4444444444444444,
              "#bd3786"
             ],
             [
              0.5555555555555556,
              "#d8576b"
             ],
             [
              0.6666666666666666,
              "#ed7953"
             ],
             [
              0.7777777777777778,
              "#fb9f3a"
             ],
             [
              0.8888888888888888,
              "#fdca26"
             ],
             [
              1,
              "#f0f921"
             ]
            ],
            "type": "surface"
           }
          ],
          "table": [
           {
            "cells": {
             "fill": {
              "color": "#EBF0F8"
             },
             "line": {
              "color": "white"
             }
            },
            "header": {
             "fill": {
              "color": "#C8D4E3"
             },
             "line": {
              "color": "white"
             }
            },
            "type": "table"
           }
          ]
         },
         "layout": {
          "annotationdefaults": {
           "arrowcolor": "#2a3f5f",
           "arrowhead": 0,
           "arrowwidth": 1
          },
          "autotypenumbers": "strict",
          "coloraxis": {
           "colorbar": {
            "outlinewidth": 0,
            "ticks": ""
           }
          },
          "colorscale": {
           "diverging": [
            [
             0,
             "#8e0152"
            ],
            [
             0.1,
             "#c51b7d"
            ],
            [
             0.2,
             "#de77ae"
            ],
            [
             0.3,
             "#f1b6da"
            ],
            [
             0.4,
             "#fde0ef"
            ],
            [
             0.5,
             "#f7f7f7"
            ],
            [
             0.6,
             "#e6f5d0"
            ],
            [
             0.7,
             "#b8e186"
            ],
            [
             0.8,
             "#7fbc41"
            ],
            [
             0.9,
             "#4d9221"
            ],
            [
             1,
             "#276419"
            ]
           ],
           "sequential": [
            [
             0,
             "#0d0887"
            ],
            [
             0.1111111111111111,
             "#46039f"
            ],
            [
             0.2222222222222222,
             "#7201a8"
            ],
            [
             0.3333333333333333,
             "#9c179e"
            ],
            [
             0.4444444444444444,
             "#bd3786"
            ],
            [
             0.5555555555555556,
             "#d8576b"
            ],
            [
             0.6666666666666666,
             "#ed7953"
            ],
            [
             0.7777777777777778,
             "#fb9f3a"
            ],
            [
             0.8888888888888888,
             "#fdca26"
            ],
            [
             1,
             "#f0f921"
            ]
           ],
           "sequentialminus": [
            [
             0,
             "#0d0887"
            ],
            [
             0.1111111111111111,
             "#46039f"
            ],
            [
             0.2222222222222222,
             "#7201a8"
            ],
            [
             0.3333333333333333,
             "#9c179e"
            ],
            [
             0.4444444444444444,
             "#bd3786"
            ],
            [
             0.5555555555555556,
             "#d8576b"
            ],
            [
             0.6666666666666666,
             "#ed7953"
            ],
            [
             0.7777777777777778,
             "#fb9f3a"
            ],
            [
             0.8888888888888888,
             "#fdca26"
            ],
            [
             1,
             "#f0f921"
            ]
           ]
          },
          "colorway": [
           "#636efa",
           "#EF553B",
           "#00cc96",
           "#ab63fa",
           "#FFA15A",
           "#19d3f3",
           "#FF6692",
           "#B6E880",
           "#FF97FF",
           "#FECB52"
          ],
          "font": {
           "color": "#2a3f5f"
          },
          "geo": {
           "bgcolor": "white",
           "lakecolor": "white",
           "landcolor": "#E5ECF6",
           "showlakes": true,
           "showland": true,
           "subunitcolor": "white"
          },
          "hoverlabel": {
           "align": "left"
          },
          "hovermode": "closest",
          "mapbox": {
           "style": "light"
          },
          "paper_bgcolor": "white",
          "plot_bgcolor": "#E5ECF6",
          "polar": {
           "angularaxis": {
            "gridcolor": "white",
            "linecolor": "white",
            "ticks": ""
           },
           "bgcolor": "#E5ECF6",
           "radialaxis": {
            "gridcolor": "white",
            "linecolor": "white",
            "ticks": ""
           }
          },
          "scene": {
           "xaxis": {
            "backgroundcolor": "#E5ECF6",
            "gridcolor": "white",
            "gridwidth": 2,
            "linecolor": "white",
            "showbackground": true,
            "ticks": "",
            "zerolinecolor": "white"
           },
           "yaxis": {
            "backgroundcolor": "#E5ECF6",
            "gridcolor": "white",
            "gridwidth": 2,
            "linecolor": "white",
            "showbackground": true,
            "ticks": "",
            "zerolinecolor": "white"
           },
           "zaxis": {
            "backgroundcolor": "#E5ECF6",
            "gridcolor": "white",
            "gridwidth": 2,
            "linecolor": "white",
            "showbackground": true,
            "ticks": "",
            "zerolinecolor": "white"
           }
          },
          "shapedefaults": {
           "line": {
            "color": "#2a3f5f"
           }
          },
          "ternary": {
           "aaxis": {
            "gridcolor": "white",
            "linecolor": "white",
            "ticks": ""
           },
           "baxis": {
            "gridcolor": "white",
            "linecolor": "white",
            "ticks": ""
           },
           "bgcolor": "#E5ECF6",
           "caxis": {
            "gridcolor": "white",
            "linecolor": "white",
            "ticks": ""
           }
          },
          "title": {
           "x": 0.05
          },
          "xaxis": {
           "automargin": true,
           "gridcolor": "white",
           "linecolor": "white",
           "ticks": "",
           "title": {
            "standoff": 15
           },
           "zerolinecolor": "white",
           "zerolinewidth": 2
          },
          "yaxis": {
           "automargin": true,
           "gridcolor": "white",
           "linecolor": "white",
           "ticks": "",
           "title": {
            "standoff": 15
           },
           "zerolinecolor": "white",
           "zerolinewidth": 2
          }
         }
        },
        "title": {
         "text": "Place of Birth for the Foreign-Born Population<br>Great Neck Unified School District"
        },
        "xaxis": {
         "tickmode": "array",
         "ticktext": [
          "2009",
          "2014",
          "2019"
         ],
         "tickvals": [
          2009,
          2014,
          2019
         ],
         "title": {
          "text": "Year"
         }
        },
        "yaxis": {
         "title": {
          "text": "Population"
         }
        }
       }
      },
      "image/png": "[encoded data removed]"
     },
     "metadata": {},
     "output_type": "display_data"
    }
   ],
   "source": [
    "from utils import graph_multiyear\n",
    "\n",
    "graph_multiyear(\n",
    "    df,\n",
    "    \"Place of Birth for the Foreign-Born Population<br>Great Neck Unified School District\",\n",
    "    \"Population\",\n",
    ")"
   ]
  },
  {
   "cell_type": "markdown",
   "metadata": {},
   "source": [
    "And we can also graph the percent change as before."
   ]
  },
  {
   "cell_type": "code",
   "execution_count": 7,
   "metadata": {},
   "outputs": [
    {
     "name": "stdout",
     "output_type": "stream",
     "text": [
      "   China  Iran  Korea  Year\n",
      "0    NaN   NaN    NaN  2009\n",
      "0   68.0  16.8    7.1  2014\n",
      "0   45.3 -28.0   28.4  2019\n"
     ]
    },
    {
     "data": {
      "application/vnd.plotly.v1+json": {
       "config": {
        "plotlyServerURL": "https://plot.ly"
       },
       "data": [
        {
         "hovertemplate": "Year: %{x}<br>China: %{y:,}<extra></extra>",
         "line": {
          "color": "#E69F00"
         },
         "mode": "lines+markers",
         "name": "China",
         "type": "scatter",
         "x": [
          2009,
          2014,
          2019
         ],
         "y": [
          null,
          68,
          45.3
         ]
        },
        {
         "hovertemplate": "Year: %{x}<br>Iran: %{y:,}<extra></extra>",
         "line": {
          "color": "#56B4E9"
         },
         "mode": "lines+markers",
         "name": "Iran",
         "type": "scatter",
         "x": [
          2009,
          2014,
          2019
         ],
         "y": [
          null,
          16.8,
          -28
         ]
        },
        {
         "hovertemplate": "Year: %{x}<br>Korea: %{y:,}<extra></extra>",
         "line": {
          "color": "#009E73"
         },
         "mode": "lines+markers",
         "name": "Korea",
         "type": "scatter",
         "x": [
          2009,
          2014,
          2019
         ],
         "y": [
          null,
          7.1,
          28.4
         ]
        }
       ],
       "layout": {
        "template": {
         "data": {
          "bar": [
           {
            "error_x": {
             "color": "#2a3f5f"
            },
            "error_y": {
             "color": "#2a3f5f"
            },
            "marker": {
             "line": {
              "color": "#E5ECF6",
              "width": 0.5
             },
             "pattern": {
              "fillmode": "overlay",
              "size": 10,
              "solidity": 0.2
             }
            },
            "type": "bar"
           }
          ],
          "barpolar": [
           {
            "marker": {
             "line": {
              "color": "#E5ECF6",
              "width": 0.5
             },
             "pattern": {
              "fillmode": "overlay",
              "size": 10,
              "solidity": 0.2
             }
            },
            "type": "barpolar"
           }
          ],
          "carpet": [
           {
            "aaxis": {
             "endlinecolor": "#2a3f5f",
             "gridcolor": "white",
             "linecolor": "white",
             "minorgridcolor": "white",
             "startlinecolor": "#2a3f5f"
            },
            "baxis": {
             "endlinecolor": "#2a3f5f",
             "gridcolor": "white",
             "linecolor": "white",
             "minorgridcolor": "white",
             "startlinecolor": "#2a3f5f"
            },
            "type": "carpet"
           }
          ],
          "choropleth": [
           {
            "colorbar": {
             "outlinewidth": 0,
             "ticks": ""
            },
            "type": "choropleth"
           }
          ],
          "contour": [
           {
            "colorbar": {
             "outlinewidth": 0,
             "ticks": ""
            },
            "colorscale": [
             [
              0,
              "#0d0887"
             ],
             [
              0.1111111111111111,
              "#46039f"
             ],
             [
              0.2222222222222222,
              "#7201a8"
             ],
             [
              0.3333333333333333,
              "#9c179e"
             ],
             [
              0.4444444444444444,
              "#bd3786"
             ],
             [
              0.5555555555555556,
              "#d8576b"
             ],
             [
              0.6666666666666666,
              "#ed7953"
             ],
             [
              0.7777777777777778,
              "#fb9f3a"
             ],
             [
              0.8888888888888888,
              "#fdca26"
             ],
             [
              1,
              "#f0f921"
             ]
            ],
            "type": "contour"
           }
          ],
          "contourcarpet": [
           {
            "colorbar": {
             "outlinewidth": 0,
             "ticks": ""
            },
            "type": "contourcarpet"
           }
          ],
          "heatmap": [
           {
            "colorbar": {
             "outlinewidth": 0,
             "ticks": ""
            },
            "colorscale": [
             [
              0,
              "#0d0887"
             ],
             [
              0.1111111111111111,
              "#46039f"
             ],
             [
              0.2222222222222222,
              "#7201a8"
             ],
             [
              0.3333333333333333,
              "#9c179e"
             ],
             [
              0.4444444444444444,
              "#bd3786"
             ],
             [
              0.5555555555555556,
              "#d8576b"
             ],
             [
              0.6666666666666666,
              "#ed7953"
             ],
             [
              0.7777777777777778,
              "#fb9f3a"
             ],
             [
              0.8888888888888888,
              "#fdca26"
             ],
             [
              1,
              "#f0f921"
             ]
            ],
            "type": "heatmap"
           }
          ],
          "heatmapgl": [
           {
            "colorbar": {
             "outlinewidth": 0,
             "ticks": ""
            },
            "colorscale": [
             [
              0,
              "#0d0887"
             ],
             [
              0.1111111111111111,
              "#46039f"
             ],
             [
              0.2222222222222222,
              "#7201a8"
             ],
             [
              0.3333333333333333,
              "#9c179e"
             ],
             [
              0.4444444444444444,
              "#bd3786"
             ],
             [
              0.5555555555555556,
              "#d8576b"
             ],
             [
              0.6666666666666666,
              "#ed7953"
             ],
             [
              0.7777777777777778,
              "#fb9f3a"
             ],
             [
              0.8888888888888888,
              "#fdca26"
             ],
             [
              1,
              "#f0f921"
             ]
            ],
            "type": "heatmapgl"
           }
          ],
          "histogram": [
           {
            "marker": {
             "pattern": {
              "fillmode": "overlay",
              "size": 10,
              "solidity": 0.2
             }
            },
            "type": "histogram"
           }
          ],
          "histogram2d": [
           {
            "colorbar": {
             "outlinewidth": 0,
             "ticks": ""
            },
            "colorscale": [
             [
              0,
              "#0d0887"
             ],
             [
              0.1111111111111111,
              "#46039f"
             ],
             [
              0.2222222222222222,
              "#7201a8"
             ],
             [
              0.3333333333333333,
              "#9c179e"
             ],
             [
              0.4444444444444444,
              "#bd3786"
             ],
             [
              0.5555555555555556,
              "#d8576b"
             ],
             [
              0.6666666666666666,
              "#ed7953"
             ],
             [
              0.7777777777777778,
              "#fb9f3a"
             ],
             [
              0.8888888888888888,
              "#fdca26"
             ],
             [
              1,
              "#f0f921"
             ]
            ],
            "type": "histogram2d"
           }
          ],
          "histogram2dcontour": [
           {
            "colorbar": {
             "outlinewidth": 0,
             "ticks": ""
            },
            "colorscale": [
             [
              0,
              "#0d0887"
             ],
             [
              0.1111111111111111,
              "#46039f"
             ],
             [
              0.2222222222222222,
              "#7201a8"
             ],
             [
              0.3333333333333333,
              "#9c179e"
             ],
             [
              0.4444444444444444,
              "#bd3786"
             ],
             [
              0.5555555555555556,
              "#d8576b"
             ],
             [
              0.6666666666666666,
              "#ed7953"
             ],
             [
              0.7777777777777778,
              "#fb9f3a"
             ],
             [
              0.8888888888888888,
              "#fdca26"
             ],
             [
              1,
              "#f0f921"
             ]
            ],
            "type": "histogram2dcontour"
           }
          ],
          "mesh3d": [
           {
            "colorbar": {
             "outlinewidth": 0,
             "ticks": ""
            },
            "type": "mesh3d"
           }
          ],
          "parcoords": [
           {
            "line": {
             "colorbar": {
              "outlinewidth": 0,
              "ticks": ""
             }
            },
            "type": "parcoords"
           }
          ],
          "pie": [
           {
            "automargin": true,
            "type": "pie"
           }
          ],
          "scatter": [
           {
            "fillpattern": {
             "fillmode": "overlay",
             "size": 10,
             "solidity": 0.2
            },
            "type": "scatter"
           }
          ],
          "scatter3d": [
           {
            "line": {
             "colorbar": {
              "outlinewidth": 0,
              "ticks": ""
             }
            },
            "marker": {
             "colorbar": {
              "outlinewidth": 0,
              "ticks": ""
             }
            },
            "type": "scatter3d"
           }
          ],
          "scattercarpet": [
           {
            "marker": {
             "colorbar": {
              "outlinewidth": 0,
              "ticks": ""
             }
            },
            "type": "scattercarpet"
           }
          ],
          "scattergeo": [
           {
            "marker": {
             "colorbar": {
              "outlinewidth": 0,
              "ticks": ""
             }
            },
            "type": "scattergeo"
           }
          ],
          "scattergl": [
           {
            "marker": {
             "colorbar": {
              "outlinewidth": 0,
              "ticks": ""
             }
            },
            "type": "scattergl"
           }
          ],
          "scattermapbox": [
           {
            "marker": {
             "colorbar": {
              "outlinewidth": 0,
              "ticks": ""
             }
            },
            "type": "scattermapbox"
           }
          ],
          "scatterpolar": [
           {
            "marker": {
             "colorbar": {
              "outlinewidth": 0,
              "ticks": ""
             }
            },
            "type": "scatterpolar"
           }
          ],
          "scatterpolargl": [
           {
            "marker": {
             "colorbar": {
              "outlinewidth": 0,
              "ticks": ""
             }
            },
            "type": "scatterpolargl"
           }
          ],
          "scatterternary": [
           {
            "marker": {
             "colorbar": {
              "outlinewidth": 0,
              "ticks": ""
             }
            },
            "type": "scatterternary"
           }
          ],
          "surface": [
           {
            "colorbar": {
             "outlinewidth": 0,
             "ticks": ""
            },
            "colorscale": [
             [
              0,
              "#0d0887"
             ],
             [
              0.1111111111111111,
              "#46039f"
             ],
             [
              0.2222222222222222,
              "#7201a8"
             ],
             [
              0.3333333333333333,
              "#9c179e"
             ],
             [
              0.4444444444444444,
              "#bd3786"
             ],
             [
              0.5555555555555556,
              "#d8576b"
             ],
             [
              0.6666666666666666,
              "#ed7953"
             ],
             [
              0.7777777777777778,
              "#fb9f3a"
             ],
             [
              0.8888888888888888,
              "#fdca26"
             ],
             [
              1,
              "#f0f921"
             ]
            ],
            "type": "surface"
           }
          ],
          "table": [
           {
            "cells": {
             "fill": {
              "color": "#EBF0F8"
             },
             "line": {
              "color": "white"
             }
            },
            "header": {
             "fill": {
              "color": "#C8D4E3"
             },
             "line": {
              "color": "white"
             }
            },
            "type": "table"
           }
          ]
         },
         "layout": {
          "annotationdefaults": {
           "arrowcolor": "#2a3f5f",
           "arrowhead": 0,
           "arrowwidth": 1
          },
          "autotypenumbers": "strict",
          "coloraxis": {
           "colorbar": {
            "outlinewidth": 0,
            "ticks": ""
           }
          },
          "colorscale": {
           "diverging": [
            [
             0,
             "#8e0152"
            ],
            [
             0.1,
             "#c51b7d"
            ],
            [
             0.2,
             "#de77ae"
            ],
            [
             0.3,
             "#f1b6da"
            ],
            [
             0.4,
             "#fde0ef"
            ],
            [
             0.5,
             "#f7f7f7"
            ],
            [
             0.6,
             "#e6f5d0"
            ],
            [
             0.7,
             "#b8e186"
            ],
            [
             0.8,
             "#7fbc41"
            ],
            [
             0.9,
             "#4d9221"
            ],
            [
             1,
             "#276419"
            ]
           ],
           "sequential": [
            [
             0,
             "#0d0887"
            ],
            [
             0.1111111111111111,
             "#46039f"
            ],
            [
             0.2222222222222222,
             "#7201a8"
            ],
            [
             0.3333333333333333,
             "#9c179e"
            ],
            [
             0.4444444444444444,
             "#bd3786"
            ],
            [
             0.5555555555555556,
             "#d8576b"
            ],
            [
             0.6666666666666666,
             "#ed7953"
            ],
            [
             0.7777777777777778,
             "#fb9f3a"
            ],
            [
             0.8888888888888888,
             "#fdca26"
            ],
            [
             1,
             "#f0f921"
            ]
           ],
           "sequentialminus": [
            [
             0,
             "#0d0887"
            ],
            [
             0.1111111111111111,
             "#46039f"
            ],
            [
             0.2222222222222222,
             "#7201a8"
            ],
            [
             0.3333333333333333,
             "#9c179e"
            ],
            [
             0.4444444444444444,
             "#bd3786"
            ],
            [
             0.5555555555555556,
             "#d8576b"
            ],
            [
             0.6666666666666666,
             "#ed7953"
            ],
            [
             0.7777777777777778,
             "#fb9f3a"
            ],
            [
             0.8888888888888888,
             "#fdca26"
            ],
            [
             1,
             "#f0f921"
            ]
           ]
          },
          "colorway": [
           "#636efa",
           "#EF553B",
           "#00cc96",
           "#ab63fa",
           "#FFA15A",
           "#19d3f3",
           "#FF6692",
           "#B6E880",
           "#FF97FF",
           "#FECB52"
          ],
          "font": {
           "color": "#2a3f5f"
          },
          "geo": {
           "bgcolor": "white",
           "lakecolor": "white",
           "landcolor": "#E5ECF6",
           "showlakes": true,
           "showland": true,
           "subunitcolor": "white"
          },
          "hoverlabel": {
           "align": "left"
          },
          "hovermode": "closest",
          "mapbox": {
           "style": "light"
          },
          "paper_bgcolor": "white",
          "plot_bgcolor": "#E5ECF6",
          "polar": {
           "angularaxis": {
            "gridcolor": "white",
            "linecolor": "white",
            "ticks": ""
           },
           "bgcolor": "#E5ECF6",
           "radialaxis": {
            "gridcolor": "white",
            "linecolor": "white",
            "ticks": ""
           }
          },
          "scene": {
           "xaxis": {
            "backgroundcolor": "#E5ECF6",
            "gridcolor": "white",
            "gridwidth": 2,
            "linecolor": "white",
            "showbackground": true,
            "ticks": "",
            "zerolinecolor": "white"
           },
           "yaxis": {
            "backgroundcolor": "#E5ECF6",
            "gridcolor": "white",
            "gridwidth": 2,
            "linecolor": "white",
            "showbackground": true,
            "ticks": "",
            "zerolinecolor": "white"
           },
           "zaxis": {
            "backgroundcolor": "#E5ECF6",
            "gridcolor": "white",
            "gridwidth": 2,
            "linecolor": "white",
            "showbackground": true,
            "ticks": "",
            "zerolinecolor": "white"
           }
          },
          "shapedefaults": {
           "line": {
            "color": "#2a3f5f"
           }
          },
          "ternary": {
           "aaxis": {
            "gridcolor": "white",
            "linecolor": "white",
            "ticks": ""
           },
           "baxis": {
            "gridcolor": "white",
            "linecolor": "white",
            "ticks": ""
           },
           "bgcolor": "#E5ECF6",
           "caxis": {
            "gridcolor": "white",
            "linecolor": "white",
            "ticks": ""
           }
          },
          "title": {
           "x": 0.05
          },
          "xaxis": {
           "automargin": true,
           "gridcolor": "white",
           "linecolor": "white",
           "ticks": "",
           "title": {
            "standoff": 15
           },
           "zerolinecolor": "white",
           "zerolinewidth": 2
          },
          "yaxis": {
           "automargin": true,
           "gridcolor": "white",
           "linecolor": "white",
           "ticks": "",
           "title": {
            "standoff": 15
           },
           "zerolinecolor": "white",
           "zerolinewidth": 2
          }
         }
        },
        "title": {
         "text": "Place of Birth for the Foreign-Born Population<br>Great Neck Unified School District"
        },
        "xaxis": {
         "tickmode": "array",
         "ticktext": [
          "2009",
          "2014",
          "2019"
         ],
         "tickvals": [
          2009,
          2014,
          2019
         ],
         "title": {
          "text": "Year"
         }
        },
        "yaxis": {
         "title": {
          "text": "Percent Change"
         }
        }
       }
      },
      "image/png": "[encoded data removed]"
     },
     "metadata": {},
     "output_type": "display_data"
    }
   ],
   "source": [
    "from utils import pct_change_multiyear\n",
    "\n",
    "df_percent_change = pct_change_multiyear(df)\n",
    "print(df_percent_change)\n",
    "\n",
    "graph_multiyear(\n",
    "    df_percent_change,\n",
    "    \"Place of Birth for the Foreign-Born Population<br>Great Neck Unified School District\",\n",
    "    \"Percent Change\",\n",
    ")"
   ]
  }
 ],
 "metadata": {
  "kernelspec": {
   "display_name": ".venv",
   "language": "python",
   "name": "python3"
  },
  "language_info": {
   "codemirror_mode": {
    "name": "ipython",
    "version": 3
   },
   "file_extension": ".py",
   "mimetype": "text/x-python",
   "name": "python",
   "nbconvert_exporter": "python",
   "pygments_lexer": "ipython3",
   "version": "3.13.0"
  }
 },
 "nbformat": 4,
 "nbformat_minor": 2
}
