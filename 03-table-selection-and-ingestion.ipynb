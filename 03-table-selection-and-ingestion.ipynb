{
 "cells": [
  {
   "cell_type": "markdown",
   "metadata": {},
   "source": [
    "## Selecting and Ingesting Tables\n",
    "\n",
    "My interest is in measuring the impact of two waves of immigration on my hometown:\n",
    "\n",
    "1. Immigration from Iran that began during the Iranian Revolution in 1978\n",
    "2. A subsequent wave of immigration from Asia\n",
    "\n",
    "Now that I have a Census geography that approximates my hometown I can begin trying to get Census data on it. The key data structure in Census data is the \"Table\". I know of two places to browse tables:\n",
    "\n",
    "1. [data.census.gov](http://data.census.gov). This is the official website for Census data. They have a search box where you can type anything and get a list of relevant tables. I began my search here.\n",
    "2. [CensusReporter.org](http://censusreporter.org). Surprisingly, I found this website to be more helpful than data.census.gov. For example, [this](https://censusreporter.org/topics/citizenship/) page lists all tables related to Citizenship. I found the additional information they provide above and beyond raw data to be helpful.\n",
    "\n",
    "Based on this research I believe that the following tables will be helpful to me in this project:\n",
    "\n",
    " * [B05012: Nativity in the United States](https://censusreporter.org/data/table/?table=B05012&geo_ids=97000US3612510&primary_geo_id=97000US3612510)\n",
    " * [B05006: Place of Birth for the Foreign-born Population](https://censusreporter.org/data/table/?table=B05006&geo_ids=97000US3612510&primary_geo_id=97000US3612510)\n",
    " * [B02001: Race](https://censusreporter.org/data/table/?table=B02001&geo_ids=97000US3612510&primary_geo_id=97000US3612510)\n",
    " * [B04006: People Reporting Ancestry](https://censusreporter.org/data/table/?table=B04006&geo_ids=97000US3612510&primary_geo_id=97000US3612510) \n",
    " * [B16001: Language Spoken at Home by Ability to Speak English](https://censusreporter.org/tables/B16001/)\n"
   ]
  },
  {
   "cell_type": "markdown",
   "metadata": {},
   "source": [
    "### Downloading Tables\n",
    "\n",
    "You can download any of these tables using the `censusdis` package using the following template. Note that censusdis uses the word \"group\" instead of \"table\". (The geographic parameters used here were covered in the notebook `01-geographic-choice.ipynb`.)"
   ]
  },
  {
   "cell_type": "code",
   "execution_count": 5,
   "metadata": {},
   "outputs": [
    {
     "data": {
      "text/html": [
       "<div>\n",
       "<style scoped>\n",
       "    .dataframe tbody tr th:only-of-type {\n",
       "        vertical-align: middle;\n",
       "    }\n",
       "\n",
       "    .dataframe tbody tr th {\n",
       "        vertical-align: top;\n",
       "    }\n",
       "\n",
       "    .dataframe thead th {\n",
       "        text-align: right;\n",
       "    }\n",
       "</style>\n",
       "<table border=\"1\" class=\"dataframe\">\n",
       "  <thead>\n",
       "    <tr style=\"text-align: right;\">\n",
       "      <th></th>\n",
       "      <th>STATE</th>\n",
       "      <th>SCHOOL_DISTRICT_UNIFIED</th>\n",
       "      <th>B05012_001E</th>\n",
       "      <th>B05012_002E</th>\n",
       "      <th>B05012_003E</th>\n",
       "      <th>GEO_ID</th>\n",
       "      <th>NAME</th>\n",
       "    </tr>\n",
       "  </thead>\n",
       "  <tbody>\n",
       "    <tr>\n",
       "      <th>0</th>\n",
       "      <td>36</td>\n",
       "      <td>12510</td>\n",
       "      <td>46046</td>\n",
       "      <td>31638</td>\n",
       "      <td>14408</td>\n",
       "      <td>9700000US3612510</td>\n",
       "      <td>Great Neck Union Free School District, New York</td>\n",
       "    </tr>\n",
       "  </tbody>\n",
       "</table>\n",
       "</div>"
      ],
      "text/plain": [
       "  STATE SCHOOL_DISTRICT_UNIFIED  B05012_001E  B05012_002E  B05012_003E  \\\n",
       "0    36                   12510        46046        31638        14408   \n",
       "\n",
       "             GEO_ID                                             NAME  \n",
       "0  9700000US3612510  Great Neck Union Free School District, New York  "
      ]
     },
     "execution_count": 5,
     "metadata": {},
     "output_type": "execute_result"
    }
   ],
   "source": [
    "import censusdis.data as ced\n",
    "\n",
    "from censusdis.datasets import ACS5\n",
    "from censusdis.states import NY\n",
    "\n",
    "df = ced.download(\n",
    "    dataset=ACS5,\n",
    "    vintage=2020,\n",
    "    group=\"B05012\",\n",
    "    state=NY,\n",
    "    school_district_unified=\"12510\",\n",
    ")\n",
    "df"
   ]
  },
  {
   "cell_type": "markdown",
   "metadata": {},
   "source": [
    "### Working with Column Names\n",
    "\n",
    "The column names that contain data use the naming convention `<table>_<integer>E` (where the \"E\" stands for \"Estimate\"). You can get the Label for these variables using the function `ced.variables.group_tree`:"
   ]
  },
  {
   "cell_type": "code",
   "execution_count": 3,
   "metadata": {},
   "outputs": [
    {
     "data": {
      "text/plain": [
       "+ Total: (B05012_001E)\n",
       "    + Native (B05012_002E)\n",
       "    + Foreign-Born (B05012_003E)"
      ]
     },
     "execution_count": 3,
     "metadata": {},
     "output_type": "execute_result"
    }
   ],
   "source": [
    "ced.variables.group_tree(ACS5, 2020, \"B05012\")[\"Estimate\"]"
   ]
  },
  {
   "cell_type": "markdown",
   "metadata": {},
   "source": [
    "Note that censusdis does not natively support converting the column names from variables to labels. However, [this](https://github.com/censusdis/censusdis/blob/main/notebooks/Column%20Labels.ipynb) notebook contains code which does that. I copied that code into `utils.py` in this repo. Here is an example of using it:"
   ]
  },
  {
   "cell_type": "code",
   "execution_count": 4,
   "metadata": {},
   "outputs": [
    {
     "data": {
      "text/html": [
       "<div>\n",
       "<style scoped>\n",
       "    .dataframe tbody tr th:only-of-type {\n",
       "        vertical-align: middle;\n",
       "    }\n",
       "\n",
       "    .dataframe tbody tr th {\n",
       "        vertical-align: top;\n",
       "    }\n",
       "\n",
       "    .dataframe thead th {\n",
       "        text-align: right;\n",
       "    }\n",
       "</style>\n",
       "<table border=\"1\" class=\"dataframe\">\n",
       "  <thead>\n",
       "    <tr style=\"text-align: right;\">\n",
       "      <th></th>\n",
       "      <th>STATE</th>\n",
       "      <th>SCHOOL_DISTRICT_UNIFIED</th>\n",
       "      <th>Total</th>\n",
       "      <th>Native</th>\n",
       "      <th>Foreign-Born</th>\n",
       "      <th>GEO_ID</th>\n",
       "      <th>NAME</th>\n",
       "    </tr>\n",
       "  </thead>\n",
       "  <tbody>\n",
       "    <tr>\n",
       "      <th>0</th>\n",
       "      <td>36</td>\n",
       "      <td>12510</td>\n",
       "      <td>46046</td>\n",
       "      <td>31638</td>\n",
       "      <td>14408</td>\n",
       "      <td>9700000US3612510</td>\n",
       "      <td>Great Neck Union Free School District, New York</td>\n",
       "    </tr>\n",
       "  </tbody>\n",
       "</table>\n",
       "</div>"
      ],
      "text/plain": [
       "  STATE SCHOOL_DISTRICT_UNIFIED  Total  Native  Foreign-Born  \\\n",
       "0    36                   12510  46046   31638         14408   \n",
       "\n",
       "             GEO_ID                                             NAME  \n",
       "0  9700000US3612510  Great Neck Union Free School District, New York  "
      ]
     },
     "execution_count": 4,
     "metadata": {},
     "output_type": "execute_result"
    }
   ],
   "source": [
    "from utils import name_mapper\n",
    "\n",
    "# Note that both a `group` and `vintage` are required here, as the labels can change over time\n",
    "df.rename(columns=name_mapper(group=\"B05012\", vintage=2020))"
   ]
  }
 ],
 "metadata": {
  "kernelspec": {
   "display_name": ".venv",
   "language": "python",
   "name": "python3"
  },
  "language_info": {
   "codemirror_mode": {
    "name": "ipython",
    "version": 3
   },
   "file_extension": ".py",
   "mimetype": "text/x-python",
   "name": "python",
   "nbconvert_exporter": "python",
   "pygments_lexer": "ipython3",
   "version": "3.13.0"
  }
 },
 "nbformat": 4,
 "nbformat_minor": 2
}
